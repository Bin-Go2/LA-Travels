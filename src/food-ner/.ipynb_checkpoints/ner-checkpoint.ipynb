{
 "cells": [
  {
   "cell_type": "markdown",
   "metadata": {},
   "source": [
    "# Load Data"
   ]
  },
  {
   "cell_type": "code",
   "execution_count": 79,
   "metadata": {},
   "outputs": [],
   "source": [
    "import json\n",
    "import pandas as pd\n",
    "import string\n",
    "import spacy\n",
    "from spacy.tokenizer import Tokenizer\n",
    "from textblob import Word\n",
    "from textblob import TextBlob\n",
    "from spacy import displacy\n",
    "import csv\n",
    "import nltk\n",
    "import rltk"
   ]
  },
  {
   "cell_type": "code",
   "execution_count": 80,
   "metadata": {},
   "outputs": [],
   "source": [
    "nlp = spacy.load('en_core_web_sm')"
   ]
  },
  {
   "cell_type": "markdown",
   "metadata": {},
   "source": [
    "# Load Food_ontology"
   ]
  },
  {
   "cell_type": "code",
   "execution_count": 81,
   "metadata": {},
   "outputs": [],
   "source": [
    "import jsonlines"
   ]
  },
  {
   "cell_type": "code",
   "execution_count": 91,
   "metadata": {},
   "outputs": [
    {
     "data": {
      "text/plain": [
       "16625"
      ]
     },
     "execution_count": 91,
     "metadata": {},
     "output_type": "execute_result"
    }
   ],
   "source": [
    "with open(\"food_class.jl\",errors=\"ignore\") as f:\n",
    "    wr = jsonlines.Reader(f)\n",
    "    \n",
    "    food_name = set()\n",
    "    for item in wr:\n",
    "        id_1 = item[\"subclass\"][\"value\"].split(\"/\")[-1]\n",
    "        name1 = item[\"subclassLabel\"][\"value\"]\n",
    "        \n",
    "        id_2 = item[\"class\"][\"value\"].split(\"/\")[-1]\n",
    "        name2 =item[\"classLabel\"][\"value\"]\n",
    "        if id_1 != name1:\n",
    "            food_name.add(name1.lower())\n",
    "            \n",
    "        if id_2 != name2:\n",
    "            food_name.add(name2.lower())\n",
    "            \n",
    "food_name = list(food_name)\n",
    "len(food_name)"
   ]
  },
  {
   "cell_type": "code",
   "execution_count": 92,
   "metadata": {},
   "outputs": [],
   "source": [
    "food_token = dict()\n",
    "for food in food_name:\n",
    "    tokens = food.split(\" \")\n",
    "    for token in tokens:\n",
    "        food_token[token] = food_token.get(token,0)+1"
   ]
  },
  {
   "cell_type": "markdown",
   "metadata": {},
   "source": [
    "# load food recipe"
   ]
  },
  {
   "cell_type": "code",
   "execution_count": 7,
   "metadata": {},
   "outputs": [],
   "source": [
    "with open(\"recipes.json\",\"r\") as f:\n",
    "    recipes = json.load(f)"
   ]
  },
  {
   "cell_type": "code",
   "execution_count": 8,
   "metadata": {},
   "outputs": [
    {
     "data": {
      "text/plain": [
       "46254"
      ]
     },
     "execution_count": 8,
     "metadata": {},
     "output_type": "execute_result"
    }
   ],
   "source": [
    "food_name += [_.lower() for _ in recipes]\n",
    "len(food_name)"
   ]
  },
  {
   "cell_type": "code",
   "execution_count": 9,
   "metadata": {},
   "outputs": [
    {
     "data": {
      "text/plain": [
       "False"
      ]
     },
     "execution_count": 9,
     "metadata": {},
     "output_type": "execute_result"
    }
   ],
   "source": [
    "\"shrimp\" in food_name"
   ]
  },
  {
   "cell_type": "code",
   "execution_count": 111,
   "metadata": {},
   "outputs": [],
   "source": [
    "# token count\n",
    "fre_tokens = dict()\n",
    "for food in food_name:\n",
    "    tokens = food.split(\" \")\n",
    "    \n",
    "    for token in tokens:\n",
    "        fre_tokens[token] = fre_tokens.get(token,0)+1\n",
    "        \n",
    "# remove stop word\n",
    "stopword = nlp.Defaults.stop_words\n",
    "for key in list(fre_tokens.keys()):\n",
    "    if key in nlp.Defaults.stop_words:\n",
    "        del fre_tokens[key]"
   ]
  },
  {
   "cell_type": "code",
   "execution_count": 180,
   "metadata": {},
   "outputs": [
    {
     "data": {
      "text/plain": [
       "[]"
      ]
     },
     "execution_count": 180,
     "metadata": {},
     "output_type": "execute_result"
    }
   ],
   "source": [
    "list(nlp(\"pizza is good\").ents)"
   ]
  },
  {
   "cell_type": "code",
   "execution_count": 112,
   "metadata": {},
   "outputs": [
    {
     "data": {
      "text/plain": [
       "48"
      ]
     },
     "execution_count": 112,
     "metadata": {},
     "output_type": "execute_result"
    }
   ],
   "source": [
    "fre_tokens[\"dish\"]"
   ]
  },
  {
   "cell_type": "code",
   "execution_count": 59,
   "metadata": {},
   "outputs": [
    {
     "data": {
      "text/plain": [
       "'a'"
      ]
     },
     "execution_count": 59,
     "metadata": {},
     "output_type": "execute_result"
    }
   ],
   "source": [
    "\"\"\"with open(\"food_name.txt\", \"w\", errors=\"replace\") as f:\n",
    "    for food in food_name:\n",
    "        tokens = food.split(\" \")\n",
    "        \n",
    "        if len(tokens)==1:\n",
    "            if tokens[0]:\n",
    "                print(True)\n",
    "                f.write(f\"{tokens[0]} S\\n\")\n",
    "                f.write(\"\\n\")\n",
    "            \n",
    "        else:\n",
    "            count = 0\n",
    "            len_tokens = len(tokens)\n",
    "            \n",
    "            while count < len_tokens:\n",
    "                if not token:\n",
    "                    print(True)\n",
    "                    continue\n",
    "                if count == 0:\n",
    "                    f.write(f\"{tokens[count]} B\\n\")\n",
    "                elif count == len_tokens-1:\n",
    "                    f.write(f\"{tokens[count]} I\\n\")\n",
    "                else:\n",
    "                    f.write(f\"{tokens[count]} E\\n\")\n",
    "                count += 1\n",
    "            f.write(\"\\n\")\n",
    "\"\"\"\n",
    "\"a\""
   ]
  },
  {
   "cell_type": "code",
   "execution_count": 60,
   "metadata": {},
   "outputs": [],
   "source": [
    "nlp = spacy.load('en_core_web_sm')"
   ]
  },
  {
   "cell_type": "code",
   "execution_count": 175,
   "metadata": {},
   "outputs": [
    {
     "data": {
      "text/plain": [
       "1"
      ]
     },
     "execution_count": 175,
     "metadata": {},
     "output_type": "execute_result"
    }
   ],
   "source": [
    "fre_tokens[\"moscow\"]"
   ]
  },
  {
   "cell_type": "markdown",
   "metadata": {},
   "source": [
    "# Build"
   ]
  },
  {
   "cell_type": "code",
   "execution_count": 93,
   "metadata": {},
   "outputs": [],
   "source": [
    "with open(\"train2\", \"r\") as f:\n",
    "    sents = []\n",
    "    sent = []\n",
    "    foods = []\n",
    "    food = []\n",
    "    for line in f:\n",
    "        if line != \"\\n\":\n",
    "            token, tag = line.split(\" \")\n",
    "            if tag == \"O\\n\":\n",
    "                food = []\n",
    "            elif tag == \"U\\n\":\n",
    "                foods.append(token)\n",
    "                food = []\n",
    "            elif tag == \"E\\n\":\n",
    "                food.append(token)\n",
    "                foods.append(\" \".join(food))\n",
    "                food = []\n",
    "            else:\n",
    "                food.append(token)\n",
    "            sent.append(token)\n",
    "        else:\n",
    "            sents.append([\" \".join(sent),foods])\n",
    "            sent = []\n",
    "            foods = []"
   ]
  },
  {
   "cell_type": "code",
   "execution_count": 94,
   "metadata": {},
   "outputs": [],
   "source": [
    "truth = [_[1] for _ in sents]"
   ]
  },
  {
   "cell_type": "code",
   "execution_count": 95,
   "metadata": {},
   "outputs": [],
   "source": [
    "# get data chunks\n",
    "noun_chunks = []\n",
    "for sent, foods in sents:\n",
    "    sent_nlp = nlp(sent)\n",
    "    chunks = list(sent_nlp.noun_chunks)\n",
    "    \n",
    "    # some modify\n",
    "    noun_chunks.append(chunks)"
   ]
  },
  {
   "cell_type": "code",
   "execution_count": 123,
   "metadata": {},
   "outputs": [],
   "source": [
    "from spacy.matcher import Matcher\n",
    "matcher = Matcher(nlp.vocab)\n",
    "pattern = [{\"POS\":\"ADJ\",\"OP\":\"*\"},{\"POS\":{\"IN\": [\"PROPN\", \"NOUN\"]}, \"OP\":\"+\"}]\n",
    "pattern = [{\"POS\":{\"IN\": [\"PROPN\", \"NOUN\"]}, \"OP\":\"+\"},{\"POS\":\"ADP\"},{\"POS\":{\"IN\": [\"PROPN\", \"NOUN\"]}, \"OP\":\"+\"}]\n",
    "matcher.add(\"NOUN_COMPOUND\", None, pattern)\n",
    "pattern = [{\"POS\":{\"IN\": [\"PROPN\", \"NOUN\"]}, \"OP\":\"+\"},{\"POS\":\"ADP\"},{\"POS\":{\"IN\": [\"PROPN\", \"NOUN\"]}, \"OP\":\"+\"}]\n",
    "matcher.add(\"NOUN_ADP_NOUN\", None, pattern)"
   ]
  },
  {
   "cell_type": "code",
   "execution_count": 124,
   "metadata": {},
   "outputs": [],
   "source": [
    "def greedy_compound(matches, nlp_sent):\n",
    "    tokens = []\n",
    "    sent = len(nlp_sent)*[False]\n",
    "    for _, start, end in matches:\n",
    "        sent[start:end] = [True]*(end-start)\n",
    "    \n",
    "    hold = []\n",
    "    for status, token in zip(sent, nlp_sent):\n",
    "        if status:\n",
    "            hold.append(token.lemma_)\n",
    "        elif status or hold:\n",
    "            tokens.append(\" \".join(hold))\n",
    "            hold = []\n",
    "        elif not (status or hold):\n",
    "            continue\n",
    "    \n",
    "    # tokens is greedy token\n",
    "    return tokens"
   ]
  },
  {
   "cell_type": "code",
   "execution_count": 125,
   "metadata": {},
   "outputs": [],
   "source": [
    "matches = matcher(nlp(\"all they need is a bakery with fresh seed bread, espresso, and italian pastries and i will be 400 pounds.\"))"
   ]
  },
  {
   "cell_type": "code",
   "execution_count": 126,
   "metadata": {},
   "outputs": [
    {
     "data": {
      "text/plain": [
       "['bakery', 'fresh seed bread', 'espresso', 'italian pastry', 'pound']"
      ]
     },
     "execution_count": 126,
     "metadata": {},
     "output_type": "execute_result"
    }
   ],
   "source": [
    "couple = greedy_compound(matches, nlp(\"all they need is a bakery with fresh seed bread, espresso, and italian pastries and i will be 400 pounds.\"))\n",
    "couple"
   ]
  },
  {
   "cell_type": "code",
   "execution_count": 127,
   "metadata": {},
   "outputs": [
    {
     "data": {
      "text/plain": [
       "False"
      ]
     },
     "execution_count": 127,
     "metadata": {},
     "output_type": "execute_result"
    }
   ],
   "source": [
    "check_food(\"pound\", food_name, fre_tokens, threshod=10)"
   ]
  },
  {
   "cell_type": "code",
   "execution_count": 128,
   "metadata": {},
   "outputs": [],
   "source": [
    "def check_food(token, food_name, fre_tokens, threshod = 10):\n",
    "    if token in food_name:\n",
    "        return True\n",
    "    \n",
    "    words = token.split(\" \")\n",
    "    \n",
    "    words_score = [fre_tokens.get(word,0) for word in words]\n",
    "    if sum(words_score)/len(words_score)>threshod:\n",
    "        return True\n",
    "    \n",
    "    return False\n",
    "\n",
    "def hybrid_similarity(m ,n):\n",
    "    similarity = rltk.levenshtein_similarity(m,n)\n",
    "    \n",
    "    if similarity > 0.7:\n",
    "        similarity = 1\n",
    "        return similarity\n",
    "    else:\n",
    "        return similarity\n",
    "\n",
    "def check_accuracy(truth_line,predict_line):\n",
    "    \n",
    "    # The total num\n",
    "    res = [False]*len(truth_line)\n",
    "    \n",
    "    for predict in predict_line:\n",
    "        for idx in range(len(truth_line)):\n",
    "            if not res[idx]:\n",
    "                s1 = predict.split(\" \")\n",
    "                s2 = truth_line[idx].split(\" \")\n",
    "                similarity = rltk.hybrid_jaccard_similarity(set(s1), set(s2),function=hybrid_similarity)\n",
    "                \n",
    "                if similarity >=0.5:\n",
    "                    res[idx] = True\n",
    "                    \n",
    "    return res"
   ]
  },
  {
   "cell_type": "code",
   "execution_count": 129,
   "metadata": {},
   "outputs": [],
   "source": [
    "test_food = []\n",
    "for sent, food in sents:\n",
    "    sent = sent.lower()\n",
    "    \n",
    "    sent_nlp = nlp(sent)\n",
    "    matches = matcher(sent_nlp)\n",
    "    \n",
    "    # obtain candidates\n",
    "    food_candidates = greedy_compound(matches, sent_nlp)\n",
    "    \n",
    "    foods = []\n",
    "    #check wther the token is food\n",
    "    for food_candidate in food_candidates:\n",
    "        if check_food(food_candidate, food_name, fre_tokens, threshod=10):\n",
    "            foods.append(food_candidate)\n",
    "            \n",
    "    test_food.append([sent, foods])"
   ]
  },
  {
   "cell_type": "code",
   "execution_count": 130,
   "metadata": {},
   "outputs": [
    {
     "data": {
      "text/plain": [
       "0.688212927756654"
      ]
     },
     "execution_count": 130,
     "metadata": {},
     "output_type": "execute_result"
    }
   ],
   "source": [
    "total = sum(len(_) for _ in truth)\n",
    "count = 0\n",
    "for line1, line2, in zip(truth, test_food):\n",
    "    _,predict_line = line2\n",
    "    count += sum(check_accuracy(line1,predict_line))\n",
    "count/total"
   ]
  },
  {
   "cell_type": "code",
   "execution_count": 131,
   "metadata": {},
   "outputs": [
    {
     "name": "stdout",
     "output_type": "stream",
     "text": [
      "['pork', 'garlic chicken platter', 'camarones enchilados', 'shrimp in creole sauce', 'mango milkshake', 'iced tea']\n",
      "['pork', 'garlic chicken platter', 'shrimp in creole sauce', 'iced tea']\n",
      "['mojo de ajo garlic sauce']\n",
      "['side order of mojo de ajo garlic sauce', 'dish']\n",
      "['raspberry iced tea']\n",
      "['raspberry iced tea']\n",
      "['picadillo a la criolla ground beef', 'cuban style extra lean ground beef with potatoes', 'tomato-based sauce', 'beef']\n",
      "['la criolla ground beef cuban style extra lean ground beef with potato', 'tomato', 'sauce', 'perfect beef']\n",
      "['bistec picadito steak strips', 'sirloin steak', 'bell peppers', 'onions', 'olive oil', 'tomato sauce']\n",
      "['bistec picadito steak strip strip of sirloin steak', 'onion', 'olive oil', 'tomato sauce']\n",
      "['camarones al ajillo shrimp in garlic sauce']\n",
      "['camarone al ajillo shrimp', 'garlic sauce']\n",
      "['smoothies', 'cuban soft drinks']\n",
      "['cuban soft drink']\n",
      "['moros , platanos fritos y ensalada verde', 'beans', 'rice', 'plantains', 'mixed green salad']\n",
      "['bean', 'rice', 'plantain', 'green salad']\n",
      "['iced tea']\n",
      "['iced tea']\n",
      "['pork', 'cuban style roasted', 'fried chunk', 'roasted leg', 'grilled pork chops', 'chicken', 'garlic chicken', 'beef', 'oxtail stew', 'shredded beef', 'tongue', 'tongue', 'pan con bistec sandwich', 'bistec', 'beef steak']\n",
      "['pork 1,2,3,4', 'pork chop', 'chicken', 'famous garlic chicken', 'bone', 'beef', 'oxtail stew', 'shredded beef', 'favorite pan con bistec sandwich', 'bastardization of beef steak']\n",
      "['drinks', 'alcoholic mojito', 'hot tea']\n",
      "['drink', 'hot tea']\n",
      "['sandwich cubano', 'sandwich']\n",
      "['sandwich cubano', 'great sandwich']\n",
      "['sandwich cubano']\n",
      "['sandwich cubano']\n",
      "['food', 'cuban soft drinks', 'coffee']\n",
      "['food', 'cuban soft drink', 'coffee']\n",
      "['higado a la italiana italian style liver']\n",
      "['higado a la italiana italian style liver']\n",
      "['lechon asado cuban style roast pork', 'chicken']\n",
      "['lechon asado cuban style roast pork', 'chicken dish']\n",
      "['aaron , frijoles negros y platanos fritos', 'black beans', 'fried sweet plantains', 'moros , platanos fritos y ensalada verde', 'beans', 'rice', 'fried sweet plantains', 'mixed green salad']\n",
      "['frijoles negros y platanos fritos rice', 'black bean', 'sweet plantain', 'moro', 'rice', 'sweet plantain', 'green salad hahaha']\n",
      "['cuban soft drinks', 'beers', 'fruit shake', 'bananas', 'papaya', 'sweet coconut']\n",
      "['cuban soft drink', 'beer', 'delightful thick cold fruit shake', 'banana', 'papaya', 'sweet coconut']\n",
      "['lechon asado cuban style roast pork', 'pulled pork']\n",
      "['lechon asado cuban style roast pork', 'pork']\n",
      "['thai iced teas', 'fried vegetable dumplings']\n",
      "['thai iced tea', 'fried vegetable dumpling']\n",
      "['thai iced teas', 'sugar']\n",
      "['tea', 'cup of sugar', 'half']\n",
      "['thai iced tea']\n",
      "['thai iced tea']\n",
      "['truffle oil', 'mushrooms', 'moules champignon']\n",
      "['smooth taste of truffle oil', 'mushroom']\n",
      "['merguez couscous']\n",
      "['merguez']\n",
      "['crab cakes with beurre blanc']\n",
      "['crab cake with beurre blanc']\n",
      "['napoleon']\n",
      "[]\n",
      "['beef noodle soup']\n",
      "['beef noodle soup']\n",
      "['festive rice']\n",
      "['festive rice']\n",
      "[]\n",
      "['sardine']\n",
      "['cheese']\n",
      "['bacon', 'sausage', 'cheese', 'egg']\n",
      "['lobster ravioli', 'special ravioli', 'hot coppacola', 'goat cheese', 'tomato chicken sauce']\n",
      "['lobster', 'hot coppacola', 'dab of goat cheese on top', 'amazing tomato chicken sauce']\n",
      "['french toast']\n",
      "['bad french toast']\n",
      "['brazen burger']\n",
      "['brazen burger']\n",
      "['avocado ball']\n",
      "['avocado ball']\n",
      "['tempura pumpkin roll', 'avocado/cucumber roll', 'vegetarian dragon roll']\n",
      "['tempura pumpkin roll', 'avocado', 'cucumber roll', 'vegetarian dragon roll']\n",
      "['salsa bar', 'cilantro', 'salsas']\n",
      "['salsa bar']\n",
      "['tacos']\n",
      "[]\n",
      "['crust', 'cheese', 'peppers', 'mushrooms', 'onions', 'sausage']\n",
      "['sauce', 'cheese', 'pepper', 'onion', 'sausage boo']\n",
      "['tempura hamachi']\n",
      "[]\n",
      "['porter house steak', 'filet mignon rossini']\n",
      "['main course', 'porter house steak']\n",
      "['shawarma', 'chicken shawarma']\n",
      "['chicken shawarma']\n",
      "['baklava ice cream']\n",
      "['baklava ice cream']\n",
      "['calamari']\n",
      "['calamari']\n",
      "['gyro']\n",
      "['gyro']\n",
      "['kokkinisto , lamb in red sauce']\n",
      "['lamb', 'red sauce']\n",
      "['bagels', 'bagels', 'sandwiches', 'soups']\n",
      "['bagel', 'sandwich', 'soup']\n",
      "['fried tofu', 'pad thai']\n",
      "['tofu', 'pad thai']\n",
      "['tea', 'coffee']\n",
      "['water', 'tea', 'tea shop in new york', 'coffee']\n",
      "['cheesesteak']\n",
      "[]\n",
      "['fresh fruit', 'fried green tomatoes']\n",
      "['fresh fruit', 'green tomato']\n",
      "['naan breads', 'chapati', 'naan', 'naan']\n",
      "['chapati', 'naan', 'naan']\n",
      "['pollo adobo', 'gnocchi', 'mushroom cream sauce']\n",
      "['gnocchi', 'mushroom cream sauce']\n",
      "['coffee', 'breakfast']\n",
      "['order for coffee', 'breakfast']\n",
      "['palak aloo methi']\n",
      "[]\n",
      "['the']\n",
      "['bottega del vino']\n",
      "['horchata', 'chips and salsa']\n",
      "['chip', 'salsa']\n",
      "['gnocchi alla sorrentina', 'dumplings', 'mozzarella']\n",
      "['favorite dish', 'gnocchi alla sorrentina']\n",
      "['bento']\n",
      "[]\n",
      "['combination']\n",
      "[]\n",
      "['grease', 'cheese', 'crust']\n",
      "['cheese']\n",
      "['crying tiger', 'steamed mussels']\n",
      "[]\n",
      "['daal', 'chana masala']\n",
      "['food']\n",
      "['drink', 'shrimp and grits']\n",
      "['bar', 'drink', 'shrimp', 'grit', 'bar menu', 'food']\n",
      "['soljanka', 'tomato', 'cabbage soup', 'bacon', 'salami']\n",
      "['hearty tomato', 'soup with bit of bacon', 'salami']\n",
      "['butternut squash soup', 'sea bass']\n",
      "['soup', 'sea bass']\n",
      "['naan']\n",
      "['naan']\n",
      "['-braised brussels sprouts']\n",
      "[]\n",
      "['mediocre pizza', 'dinner salads', 'vinaigrette']\n",
      "['mediocre pizza', 'couple of dinner salad']\n",
      "['sushi', 'yellowtail scallion', 'salmon', 'scallop']\n",
      "['sushi']\n",
      "['sides', 'cole slaw', 'beans', 'cheese']\n",
      "['bean', 'mac cheese']\n",
      "['cream cheese']\n",
      "['cream cheese taste']\n",
      "['foccacia with truffle oil', 'hanger steak with bone marrow', 'serrano ham with peaches', 'spaghetti squash crostini', 'turkey sausage']\n",
      "['foccacia with truffle oil', 'hanger steak with bone marrow', 'serrano ham with peach', 'spaghetti', 'crostini', 'turkey sausage']\n",
      "['peanut butter cookies']\n",
      "['peanut butter cookie']\n",
      "['pizzas']\n",
      "['pizza']\n",
      "['mac', 'cheese']\n",
      "['cheese']\n",
      "['mediterranean tapas']\n",
      "['dip']\n",
      "['calamari']\n",
      "['calamari']\n",
      "['nachos']\n",
      "['food']\n",
      "['chicken tiki masala', 'burrito', 'fish burrito', 'taco']\n",
      "['chicken tiki masala', 'burrito', 'fish burrito']\n",
      "['crab alfredo', 'crab']\n",
      "['crab alfredo', 'enough crab', 'dish']\n",
      "['martinis with fresh fruit', 'mango', 'blood orange', 'appetizers']\n",
      "['drink', 'fresh fruit', 'blood orange', 'drink']\n",
      "['hostess']\n",
      "[]\n",
      "['lobster bisque', 'clam chowder']\n",
      "['clam chowder']\n",
      "['delessio']\n",
      "[]\n",
      "['naan']\n",
      "['naan']\n",
      "['hollandaise sauce', 'home fries']\n",
      "['hollandaise sauce']\n",
      "['lettuce', 'carrot garnish', 'coco mango salad']\n",
      "['lettuce', 'coco mango salad']\n",
      "['skillet corn bread']\n",
      "['skillet corn bread']\n",
      "['bulgogi']\n",
      "['bulgogi']\n",
      "['orange chicken', 'teriyaki']\n",
      "['menu', 'dish', 'average orange chicken']\n",
      "['miso soup']\n",
      "['miso soup']\n",
      "['caesar', 'blue corn croutons', 'salad']\n",
      "['caesar', 'delectable blue corn crouton', 'salad']\n",
      "['steak pieces', 'bread roll', 'whiz', 'cherry']\n",
      "['steak piece', 'bread roll', 'cherry', 'icing']\n",
      "['she crab soup']\n",
      "['crab soup']\n",
      "['hot fudge sundae', 'banana pudding']\n",
      "['hot fudge sundae', 'banana pudding']\n",
      "['dean and deluca']\n",
      "[]\n",
      "['gyros']\n",
      "['gyro']\n",
      "['mushroom quesadillas']\n",
      "['mushroom']\n",
      "['pastrami']\n",
      "[]\n",
      "['mermaid rolls', 'green curry chicken', 'grilled eggplant']\n",
      "['mermaid roll', 'green curry chicken', 'sweet sauce']\n",
      "['pommes frites', 'dipping sauce']\n",
      "['dipping sauce']\n",
      "['breakfast burrito']\n",
      "['breakfast burrito']\n",
      "['la crema chardonnay', 'blackened chicken alfredo']\n",
      "['glass of la crema chardonnay', 'chicken alfredo', 'chicken']\n",
      "['the french dip']\n",
      "['french dip', 'buck']\n",
      "['sandwiches', 'caprese', 'blt', 'cupcakes', 'scone', 'croissant', 'ice coffee', 'hot chocolate']\n",
      "['couple sandwich', 'blt', 'cupcake', 'scone', 'croissant', 'drink', 'ice coffee', 'hot chocolate']\n",
      "['salad', 'green mango and papaya salad']\n",
      "['salad', 'green mango', 'papaya salad']\n",
      "['merguez', 'spicy sausage', 'basmati rice']\n",
      "['merguez', 'spicy sausage', 'bed of basmati rice']\n",
      "['morning glory', 'basil frog legs']\n",
      "['steamed mussels crispy morning glory salad basil frog leg']\n",
      "['bbq chicken', 'sticky rice']\n",
      "['bbq chicken', 'sticky rice']\n",
      "['sweetbreads', 'brussels sprouts', 'woods mushrooms', 'sweetbread preparations', 'creamy', 'calamari salad', 'smoked pork shoulder', 'sweet potatoes', 'salsify', 'bacon broth', 'meat', 'ramen joint', 'broth']\n",
      "['sweetbread', 'broth', 'dish', 'calamari salad', 'pork shoulder', 'sweet potato', 'broth', 'meat', 'broth', 'kick']\n"
     ]
    }
   ],
   "source": [
    "for line1, line2, in zip(truth, test_food):\n",
    "    _,predict_line = line2\n",
    "    print(line1)\n",
    "    print(predict_line)"
   ]
  },
  {
   "cell_type": "code",
   "execution_count": 119,
   "metadata": {},
   "outputs": [],
   "source": [
    "with open(\"RESTAURANT.json\",\"r\", errors=\"replace\") as f:\n",
    "    data = []\n",
    "    for line in f:\n",
    "        data.append(json.loads(line))"
   ]
  },
  {
   "cell_type": "code",
   "execution_count": 120,
   "metadata": {},
   "outputs": [
    {
     "data": {
      "text/plain": [
       "7644"
      ]
     },
     "execution_count": 120,
     "metadata": {},
     "output_type": "execute_result"
    }
   ],
   "source": [
    "len(data)"
   ]
  },
  {
   "cell_type": "code",
   "execution_count": 163,
   "metadata": {},
   "outputs": [
    {
     "name": "stdout",
     "output_type": "stream",
     "text": [
      " 7643"
     ]
    }
   ],
   "source": [
    "count = 0\n",
    "predict_dict = dict()\n",
    "for rest in data:\n",
    "    reviews = \" \".join(rest[\"review_txt\"])\n",
    "    \n",
    "    food_sent = []\n",
    "    for sent in  nltk.sent_tokenize(reviews):\n",
    "        sent = sent.lower()\n",
    "        sent_nlp = nlp(sent)\n",
    "        matches = matcher(sent_nlp)\n",
    "        \n",
    "        # obtain candidates\n",
    "        food_candidates = greedy_compound(matches, sent_nlp)\n",
    "\n",
    "        foods = []\n",
    "        #check wther the token is food\n",
    "        for food_candidate in food_candidates:\n",
    "            if check_food(food_candidate, food_name, fre_tokens, threshod=10):\n",
    "                foods.append(food_candidate)\n",
    "        \n",
    "        food_sent.append([sent, foods])\n",
    "            \n",
    "    predict_dict[rest[\"url\"]] = food_sent\n",
    "    print(\"\\r\",count, end=\"\")\n",
    "    count += 1"
   ]
  },
  {
   "cell_type": "code",
   "execution_count": 164,
   "metadata": {},
   "outputs": [
    {
     "data": {
      "text/plain": [
       "[['whole foods markets are good and this one is tops.', ['whole food market']],\n",
       " ['i love their hearst meats and local fish market.',\n",
       "  ['hearst meat', 'local fish market']],\n",
       " ['we create great meals when you get such great quality from them.', []],\n",
       " [\"yes it's pricier than most but the value is there.\", []],\n",
       " ['same with fruit, vegetables,...eggs and cheese.',\n",
       "  ['fruit', 'egg', 'cheese']],\n",
       " [\"they're doing a good job during covid19 keeping things sanitized, masked but they need to control the shoppers a bit better by perhaps one way arrows.\",\n",
       "  []],\n",
       " [\"we're all over the place.\", []],\n",
       " ['everyone that works there is masked and gloves.', []],\n",
       " ['if visiting dtla go here instead of ralphs.', []],\n",
       " ['thanks whole foods for the nice shopping during this gloomy era.more we stocked up here on fruit, water and cookies for our hotel room.',\n",
       "  ['thank whole food', 'fruit', 'water', 'cookie']],\n",
       " ['there is a hot buffet section that looks tempting  and facilities in the next door bar and on the balcony to eat that.',\n",
       "  ['hot buffet section']],\n",
       " ['the display of fruit and veg was good and...customers could weigh out their choice of nuts, dried fruits etc.more this store is my dreams come true.',\n",
       "  ['display of fruit', 'fruit etc.more', 'dream']],\n",
       " ['insane amounts of styles, cuisines and meals.', []],\n",
       " ['hot to cold, all the salads you can think of.', ['salad']],\n",
       " ['amazing.', []],\n",
       " ['loved the sushi ðÿ�£ we stopped by for a small snack at the bar.', ['bar']],\n",
       " ['the food was simple but good !', ['food']],\n",
       " ['great service.', []],\n",
       " ['i would eat there again.', []],\n",
       " ['if you are into the food scene and you arenâ€™t from the states this is a fabulous store to visit and just have a look at all the dazzling array of healthy food on display.',\n",
       "  ['food scene', 'healthy food on display']],\n",
       " ['i loved the salad bar where you could just buy...a pottle by weight.',\n",
       "  ['salad bar']],\n",
       " ['we were staying a 5 minute walk away at level living apartments and it was ideal for taking food back to have in the apartment.',\n",
       "  ['food']],\n",
       " ['prices were on the high side at whole foods but i thought for the range offered it was worth going there.',\n",
       "  ['whole food']],\n",
       " ['you will really get the feeling of the health conscious ethos in downtown la.more if you are a foodie, and love perusing through interesting shops, whole foods is your place and is awesome!',\n",
       "  ['whole food']],\n",
       " [\"i have never been in wfs before and i was in los angeles for a conference and didn't want to eat at another restaurant.\",\n",
       "  []],\n",
       " [\"i ultimately...made a salad and some salami to go and even though it was good with lots of choices, it wasn't worth the cost...the taste just wasn't there.\",\n",
       "  ['salad', 'salami']],\n",
       " ['yet, wfs is spectacular and i could have made a 100 different choices which may have been far better!',\n",
       "  []],\n",
       " ['i was tired and in a hurry and my ability to make great choices was definitely impaired.',\n",
       "  []],\n",
       " ['the place is busy, and is very urban with a diversified clientele but everyone seemed polite enough if subtle hints of standoffishness was prevalent.',\n",
       "  []],\n",
       " ['when i was finished purchasing my order, and was waiting for my partner to finishing paying for his, i noticed that they had lots of employees and at least 3 security officers...all of which were on active alert!',\n",
       "  []],\n",
       " [\"they didn't smile and they didn't commit to small talk.\", []],\n",
       " [\"i actually liked that...wfs means business and even though their prices are absurd for many items, i want to go back, i want to stroll and really see what's available!more great selection on food and deserts.\",\n",
       "  ['available!more great selection on food']],\n",
       " ['all fresh and tasty i must confess this is my new favorite place to eat fresh and healthy this whole foods was extremely busy, but you are still able to find everything you need.',\n",
       "  ['whole food']],\n",
       " ['it has a parking garage and you literally enter through the garage once you park, super convenient.',\n",
       "  []],\n",
       " ['perfect place if you are going to host a dinner.', []],\n",
       " ['picked up...some cheese, crackers and wine and my guests were extremely satisfied with the mixture of flavors.',\n",
       "  ['cheese', 'cracker', 'wine']],\n",
       " ['love whole foods, location is great- gives you a break from all the fast food around.more great selection of food.',\n",
       "  ['whole food', 'fast food', 'great selection of food']],\n",
       " ['good open bar for food anytime of the day - breakfast, lunch, and dinner.',\n",
       "  ['good open bar for food', 'breakfast']],\n",
       " ['only downside is that it is pricey.', []],\n",
       " ['i always love going to whole foods, admittedly there was too much meat in display for my liking but the veggie / vegan offerings are plentiful and the salads are beautifully presented!',\n",
       "  ['whole food', 'much meat in display', 'salad']],\n",
       " ['such a great place to go with a hang over after i have...been djing somewhere, it is a bit dangerous though as you can spend a lot more than you bargained for!more my girlfriend and i went here for lunch.',\n",
       "  []],\n",
       " ['massive selection to suit everyone including vegetarian and vegans.', []],\n",
       " [\"when traveling to another city we try to explore the food scene as much as possible, but at the same time, we're always happy to be staying near a whole foods so we can have at least one, good, easy, and fast meal when we...more this whole foods location is close to a lot of condos and hotels in downtown la.\",\n",
       "  ['food scene', 'whole food', 'whole food location', 'hotel in downtown la']],\n",
       " ['i walked over for breakfast and was surprised at the size of it.',\n",
       "  ['breakfast']],\n",
       " [\"there's a little restaurant inside with some patio seating, etc.\", []],\n",
       " ['but it was closed when i...more we stayed at the sheraton next door so this was a safe great place to pick up snacks, lunch or mid-afternoon snacks.',\n",
       "  ['snack']],\n",
       " ['plenty of space, fast registers and good pricing.', []],\n",
       " ['stayed next door and got hungry.', []],\n",
       " ['walked over here and looked around.', []],\n",
       " ['very different from what i expected.', []],\n",
       " ['but not in a bad way.', []],\n",
       " ['a lot of healthy stuff and not a lot of â€œfried chicken, etcâ€�!',\n",
       "  ['â€œfried chicken']],\n",
       " ['i finally got some kind of rice bowl...more stopped on a visit to l.a. for quick grab.',\n",
       "  ['kind of rice bowl']],\n",
       " ['i know that the chain is overrated and expensive but this one was out if this world.',\n",
       "  []],\n",
       " ['we ordered chicken and rice and some veggies and we payed $28.',\n",
       "  ['chicken', 'rice']],\n",
       " ['and the quality is nothing special to...more we found this location in the heart of la!',\n",
       "  ['heart of la']],\n",
       " ['great customer service with plenty to choose from.', []],\n",
       " ['everyone who we ran into that works at this location truly seems to like working here.',\n",
       "  []],\n",
       " ['we had the pleasure of cruising around la on new yearâ€™s day...more whole foods is the absolute one stop shop for all things food and drink!',\n",
       "  ['la', 'new yearâ€', 'whole food', 'thing food', 'drink']],\n",
       " ['ready made food and everything you need to prepare a fancy dinner.',\n",
       "  ['food']],\n",
       " ['great place in dtla when staying at the level furnished living!!', []],\n",
       " ['this is conveniently located down town, breakfast lunch dinner.', []],\n",
       " ['clean and well stocked.', []],\n",
       " ['i went here every day during my stay and found everything i needed.', []],\n",
       " ['staff was friendly and very helpful.', []],\n",
       " ['i found everything i needed and more.', []],\n",
       " ['there is a pub attached that...more dropped by to grab dinner from the food bar.',\n",
       "  ['food bar']],\n",
       " ['loads of options although i found that the food was a bit cold - should have been warmer.',\n",
       "  ['food']],\n",
       " ['the location is really awesome!', []],\n",
       " ['they have all the hot food options i could want along with smoothies and desserts.',\n",
       "  ['hot food option', 'smoothie', 'dessert']],\n",
       " ['i really like that they have a bar connected to the store as well.',\n",
       "  ['bar']],\n",
       " ['was glad to find this place\\nin downtown la.', ['downtown la']],\n",
       " ['massive selection of meats,cheeses, deli and wines.',\n",
       "  ['massive selection of meat', 'cheese', 'wine']],\n",
       " ['and a huge buffet to make your own salads or hot food.',\n",
       "  ['own salad', 'hot food']],\n",
       " ['really great produce and healthy options it has so many different options of food for every person to choose from.',\n",
       "  ['many different option of food']],\n",
       " ['you can also buy meat and fruits there.', ['meat', 'fruit']],\n",
       " ['the line for egg sandwiches was long.', ['line for egg sandwich']],\n",
       " [\"probably it's good.\", []],\n",
       " ['this is wher i fall in love with american foods... the perfect market, they take care about everything, nothing out of place, colors and quality for first.',\n",
       "  []],\n",
       " ['paradise of fruits.', ['paradise of fruit']],\n",
       " ['you find very big choice of take away foods, hot, cold, vegan, sweet or salads,...more large whole foods market with plenty eating space.',\n",
       "  ['food', 'large whole food market']],\n",
       " ['open 7am-10pm so that makes quick bits or getting snacks easier.',\n",
       "  ['snack']],\n",
       " ['chilled wine, cold brew coffee and other regular juices etc.',\n",
       "  ['wine', 'cold brew coffee', 'other regular juice']],\n",
       " ['deli section includes poke, pizza slices and regular whole foods deli sections.',\n",
       "  ['poke', 'pizza slice', 'regular whole food deli section']],\n",
       " ['whole foods is the best place to buy healthy, vegan and organic food in the us.',\n",
       "  ['whole food', 'organic food']],\n",
       " ['pastries are great, you can choose from everything.', ['pastry']],\n",
       " ['i love the blueberry muffins.', []],\n",
       " ['excellent quality.', []],\n",
       " ['they also cater for holidays and special occasions.', ['holiday']],\n",
       " ['their christmas turkey with side dishes...more yes people either love or hate whole foods but i just wanted to comment on there sandwich station.',\n",
       "  ['christmas turkey', 'side dish', 'whole food', 'sandwich station']],\n",
       " ['really really good.', []],\n",
       " ['great value for a wide variety of sandwiches.',\n",
       "  ['wide variety of sandwich']],\n",
       " ['i had a tuna sandwich and the size was awesome.', ['tuna sandwich']],\n",
       " ['highly recommended for a sandwich on...more a good food shopping experience but the prices are as extreme as ever.',\n",
       "  ['sandwich', 'good food shopping experience']],\n",
       " ['since there is no competition in downtown la, they have a corner on this market and can charge whatever.',\n",
       "  ['competition in downtown la']],\n",
       " ['and we paid.', []],\n",
       " ['good quality.', []],\n",
       " ['nice pretty store.', []],\n",
       " ['quick check-out.', []],\n",
       " ['but expensive.', []],\n",
       " ['but...more whole foods happy hour left a lot to be desired.',\n",
       "  ['whole food happy hour']],\n",
       " ['all food and drink orders are taken at the bar making for a slow process to get served.',\n",
       "  ['food', 'drink order', 'bar']],\n",
       " ['we had the oyster special with accompanying drinks.', ['oyster', 'drink']],\n",
       " ['it had the potential to be nice, but the...more we knew whole foods from our visits to honolulu but the la store is even bigger & better.',\n",
       "  ['whole food', 'la store']],\n",
       " [\"it sells everything you'd desire & it looks fabulous... just don't go there feeling hungry... great range of products & excellent standard!!\",\n",
       "  []],\n",
       " ['we love you whole foods!!', ['whole food']],\n",
       " ['energy surrounds whole foods experience in thus newly-minted heart of downtown la with everything anyone could want every time we travel to the states, we look for wholefoods.',\n",
       "  ['energy', 'whole food experience']],\n",
       " ['it is more expensive than most supermarkets, but is a masterclass in how products are displayed with the focus on healthier (but not always healthy !)',\n",
       "  ['product']],\n",
       " ['options.', []],\n",
       " ['if you are self catering, you can\\'t...more \"whole pay check,\" but good.',\n",
       "  []],\n",
       " [\"i like the food it's just heavy on the pocket and i only go for specialty items!\",\n",
       "  ['food']],\n",
       " ['loved the food.', ['food']],\n",
       " ['its fresh and lots to choos.', []],\n",
       " ['also for vegitarian.', []],\n",
       " ['you can eat there or takeaway if needed.', []],\n",
       " [\"i love this whole foods it's amazing.\", []],\n",
       " [\"but they're macaroons aren't fresh when i try them ): but it's a great place.\",\n",
       "  ['macaroon']],\n",
       " [\"their salad bar is so big n full of many options/ i've shopped in whole foods markets throughout the country (nyc, d.c. sf etc)\\nand i find the people who work here to be the friendliest and the most knowledgeable.\",\n",
       "  ['salad bar', 'whole food market']],\n",
       " [\"i always recommend a trip to whole foods for folks who are from out of town-because...more highlight was definitely roy choi's asian fusion part in the shop.\",\n",
       "  ['whole food for folk']],\n",
       " [\"cannot completely remember the name clearly, but 100% recommend visiting as the pork belly was the tastiest i've ever tried!\",\n",
       "  ['pork belly']],\n",
       " ['there is a whole range of other delicious foods here as well including many...more as a gluten free vegan, travelling can be tricky.',\n",
       "  ['other delicious food']],\n",
       " ['this place had everything from groceries to an in store buffet!', []],\n",
       " ['take away or eat at the benches.', []],\n",
       " ['loved it.', []],\n",
       " ['just few words to describe it.', []],\n",
       " ['are you looking for healthy and tasty food?', ['tasty food']],\n",
       " ['this is your place!', []],\n",
       " ['all is fresh and really delicious.', []],\n",
       " ['you pay the food by weight and you can eat there....many different things to choose...cold or hot...also interational food.',\n",
       "  ['food by weight', 'interational food']],\n",
       " ['simply the...more super impressive store with more pre-prepared food than most stores.',\n",
       "  ['more pre - prepared food']],\n",
       " ['ideal for the millennial crowd flocking to new apts and flats in downtown la.',\n",
       "  ['new apt', 'flat in downtown la']],\n",
       " ['this whole foods is the place to go in this neighborhood.', ['whole food']],\n",
       " [\"people congregate outside and inside...it's likely one of the most hipster whole foods that i have seen or maybe it's just the neighborhood!\",\n",
       "  ['most hipster whole food']],\n",
       " ['when i travel to usa it\\'s a \"must\" visit to buy all the great organic and nourishing products that they have.',\n",
       "  []],\n",
       " ['i really like the variety, the quality and the customer service.', []],\n",
       " ['so when i have the opportunity i stock up myself with as much...more i like this whole foods but what i did not like was that people were inside the store with the dogs walking around like nothing and they are no service dogs.',\n",
       "  ['whole food', 'dog', 'service dog']],\n",
       " ['also i did not enjoy seeing the homeless people walking inside the store like...more i have never seen a whole foods like this one.',\n",
       "  ['whole food']],\n",
       " ['there is a bar with restaurant and a df on friday nights.', []],\n",
       " ['the market is fun too and has lots of prepared food that is really good.',\n",
       "  ['prepared food']],\n",
       " ['ok, we already know this is not your budget market but if you stick to the categories where they excel (meaning no one goes to whole foods for dog food do they?',\n",
       "  ['whole food for dog food']],\n",
       " ['), you will be very happy!', []],\n",
       " ['- great meat and seafood selection with a...more good size whole foods in dtla- great hot/cold food offerings in a convenient location.',\n",
       "  ['great meat', 'good size whole food', 'cold food offering']],\n",
       " [\"they've got roy choi's chega in there and the beefy t bowl wasn't bad although i'd try something different altogether next time there are a lack of breakfast restaurants in downtown los angeles...probably for good reason.\",\n",
       "  []],\n",
       " ['it is primarily the business district...but now that old office buildings are being converted to condominium lofts and apartments, some place is needed to get groceries and a bite of food...more',\n",
       "  ['bite of food']]]"
      ]
     },
     "execution_count": 164,
     "metadata": {},
     "output_type": "execute_result"
    }
   ],
   "source": [
    "predict_dict[\"https://www.tripadvisor.com/Restaurant_Review-g32655-d10177638-Reviews-or40-Whole_Foods_Market-Los_Angeles_California.html\"]"
   ]
  },
  {
   "cell_type": "code",
   "execution_count": 166,
   "metadata": {},
   "outputs": [],
   "source": [
    "with open(\"rest_food.json\", \"w\") as f:\n",
    "    json.dump(predict_dict, f, indent=1)"
   ]
  },
  {
   "cell_type": "code",
   "execution_count": null,
   "metadata": {},
   "outputs": [],
   "source": []
  }
 ],
 "metadata": {
  "kernelspec": {
   "display_name": "Python [conda env:inf558]",
   "language": "python",
   "name": "conda-env-inf558-py"
  },
  "language_info": {
   "codemirror_mode": {
    "name": "ipython",
    "version": 3
   },
   "file_extension": ".py",
   "mimetype": "text/x-python",
   "name": "python",
   "nbconvert_exporter": "python",
   "pygments_lexer": "ipython3",
   "version": "3.7.9"
  }
 },
 "nbformat": 4,
 "nbformat_minor": 4
}
