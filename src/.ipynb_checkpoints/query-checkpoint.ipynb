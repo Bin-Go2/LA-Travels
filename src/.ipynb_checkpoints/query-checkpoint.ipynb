{
 "cells": [
  {
   "cell_type": "code",
   "execution_count": 1,
   "metadata": {},
   "outputs": [],
   "source": [
    "from SPARQLWrapper import SPARQLWrapper, JSON"
   ]
  },
  {
   "cell_type": "code",
   "execution_count": 2,
   "metadata": {},
   "outputs": [],
   "source": [
    "import spacy\n",
    "nlp = spacy.load('en_core_web_sm')"
   ]
  },
  {
   "cell_type": "code",
   "execution_count": 3,
   "metadata": {},
   "outputs": [],
   "source": [
    "import jsonlines\n",
    "import rltk"
   ]
  },
  {
   "cell_type": "code",
   "execution_count": 4,
   "metadata": {},
   "outputs": [],
   "source": [
    "with open(\"food_class.jl\",errors=\"ignore\") as f:\n",
    "    wr = jsonlines.Reader(f)\n",
    "    \n",
    "    food_class_dict = dict()\n",
    "    idx_name = dict()\n",
    "    for item in wr:\n",
    "        id_1 = item[\"subclass\"][\"value\"].split(\"/\")[-1]\n",
    "        name1 = item[\"subclassLabel\"][\"value\"]\n",
    "        \n",
    "        id_2 = item[\"class\"][\"value\"].split(\"/\")[-1]\n",
    "        name2 =item[\"classLabel\"][\"value\"]\n",
    "        if id_1 != name1 and id_2 != name2:\n",
    "            food_class_dict[name1.lower()] = id_1\n",
    "            food_class_dict[name2.lower()] = id_2\n",
    "            idx_name[id_1] = name1.lower()\n",
    "            idx_name[id_2] = name2.lower()"
   ]
  },
  {
   "cell_type": "code",
   "execution_count": 5,
   "metadata": {},
   "outputs": [
    {
     "data": {
      "text/plain": [
       "'Q2095'"
      ]
     },
     "execution_count": 5,
     "metadata": {},
     "output_type": "execute_result"
    }
   ],
   "source": [
    "food_class_dict[\"food\"]"
   ]
  },
  {
   "cell_type": "code",
   "execution_count": 6,
   "metadata": {},
   "outputs": [],
   "source": [
    "# token count\n",
    "fre_tokens = dict()\n",
    "for food in food_class_dict:\n",
    "    tokens = food.split(\" \")\n",
    "    \n",
    "    for token in tokens:\n",
    "        temp = fre_tokens.get(token,set())\n",
    "        temp.add(food_class_dict[food])\n",
    "        fre_tokens[token] = temp\n",
    "        \n",
    "# remove stop word\n",
    "stopword = nlp.Defaults.stop_words\n",
    "for key in list(fre_tokens.keys()):\n",
    "    if key in nlp.Defaults.stop_words:\n",
    "        del fre_tokens[key]"
   ]
  },
  {
   "cell_type": "code",
   "execution_count": 7,
   "metadata": {},
   "outputs": [
    {
     "data": {
      "text/plain": [
       "{'Q1051265',\n",
       " 'Q10892305',\n",
       " 'Q15014447',\n",
       " 'Q15932455',\n",
       " 'Q17038368',\n",
       " 'Q17052769',\n",
       " 'Q192874',\n",
       " 'Q19610131',\n",
       " 'Q2221627',\n",
       " 'Q28224412',\n",
       " 'Q3275558',\n",
       " 'Q391082',\n",
       " 'Q47096879',\n",
       " 'Q47149231',\n",
       " 'Q4939235',\n",
       " 'Q5299471',\n",
       " 'Q61972328',\n",
       " 'Q65547070',\n",
       " 'Q67440705',\n",
       " 'Q697498',\n",
       " 'Q835336',\n",
       " 'Q872828',\n",
       " 'Q98768411',\n",
       " 'Q98826752'}"
      ]
     },
     "execution_count": 7,
     "metadata": {},
     "output_type": "execute_result"
    }
   ],
   "source": [
    "fre_tokens[\"noodle\"]"
   ]
  },
  {
   "cell_type": "code",
   "execution_count": 8,
   "metadata": {},
   "outputs": [
    {
     "data": {
      "text/plain": [
       "'noodle dish'"
      ]
     },
     "execution_count": 8,
     "metadata": {},
     "output_type": "execute_result"
    }
   ],
   "source": [
    "idx_name[\"Q98826752\"]"
   ]
  },
  {
   "cell_type": "code",
   "execution_count": 9,
   "metadata": {},
   "outputs": [],
   "source": [
    "def greedy_compound(matches, nlp_sent):\n",
    "    tokens = []\n",
    "    sent = len(nlp_sent)*[False]\n",
    "    for _, start, end in matches:\n",
    "        sent[start:end] = [True]*(end-start)\n",
    "    print(sent)\n",
    "    \n",
    "    hold = []\n",
    "    for status, token in zip(sent, nlp_sent):\n",
    "        if status:\n",
    "            hold.append(token.lemma_)\n",
    "        elif status or hold:\n",
    "            tokens.append(\" \".join(hold))\n",
    "            hold = []\n",
    "        elif not (status or hold):\n",
    "            continue\n",
    "    if hold:\n",
    "        tokens.append(\" \".join(hold))\n",
    "    # tokens is greedy token\n",
    "    return tokens"
   ]
  },
  {
   "cell_type": "code",
   "execution_count": 10,
   "metadata": {},
   "outputs": [],
   "source": [
    "from spacy.matcher import Matcher\n",
    "matcher = Matcher(nlp.vocab)\n",
    "pattern = [{\"POS\":\"ADJ\",\"OP\":\"*\"},{\"POS\":{\"IN\": [\"PROPN\", \"NOUN\"]}, \"OP\":\"+\"}]\n",
    "matcher.add(\"NOUN_COMPOUND\", None, pattern)\n",
    "\n",
    "#pattern = [{\"POS\":{\"IN\": [\"PROPN\", \"NOUN\"]}, \"OP\":\"+\"},{\"POS\":\"ADP\"},{\"POS\":{\"IN\": [\"PROPN\", \"NOUN\"]}, \"OP\":\"+\"}]\n",
    "#matcher.add(\"NOUN_ADP_NOUN\", None, pattern)"
   ]
  },
  {
   "cell_type": "markdown",
   "metadata": {},
   "source": [
    "# Input sentence"
   ]
  },
  {
   "cell_type": "code",
   "execution_count": 269,
   "metadata": {},
   "outputs": [
    {
     "ename": "SyntaxError",
     "evalue": "EOL while scanning string literal (<ipython-input-269-8ea48bfe482f>, line 2)",
     "output_type": "error",
     "traceback": [
      "\u001b[1;36m  File \u001b[1;32m\"<ipython-input-269-8ea48bfe482f>\"\u001b[1;36m, line \u001b[1;32m2\u001b[0m\n\u001b[1;33m    input_sent = \"I want to have Japanese noodle and pepperoni pizza\"\"\u001b[0m\n\u001b[1;37m                                                                      ^\u001b[0m\n\u001b[1;31mSyntaxError\u001b[0m\u001b[1;31m:\u001b[0m EOL while scanning string literal\n"
     ]
    }
   ],
   "source": [
    "# Put sentence here\n",
    "input_sent = \"I want to have Japanese noodle and pepperoni pizza\"\"\n",
    "sent_nlp= nlp(input_sent)\n",
    "matches = matcher(sent_nlp)"
   ]
  },
  {
   "cell_type": "code",
   "execution_count": 12,
   "metadata": {},
   "outputs": [
    {
     "name": "stdout",
     "output_type": "stream",
     "text": [
      "[False, False, False, False, True, True]\n"
     ]
    },
    {
     "data": {
      "text/plain": [
       "['japanese noodle']"
      ]
     },
     "execution_count": 12,
     "metadata": {},
     "output_type": "execute_result"
    }
   ],
   "source": [
    "couple = greedy_compound(matches, sent_nlp)\n",
    "couple"
   ]
  },
  {
   "cell_type": "code",
   "execution_count": 13,
   "metadata": {},
   "outputs": [],
   "source": [
    "def check_food(token, food_name, fre_tokens, threshod = 10):\n",
    "    if token in food_name:\n",
    "        return True\n",
    "    \n",
    "    words = token.split(\" \")\n",
    "    \n",
    "    words_score = [fre_tokens.get(word,0) for word in words]\n",
    "    if sum(words_score)/len(words_score)>threshod:\n",
    "        return True\n",
    "    \n",
    "    return False\n",
    "\n",
    "def hybrid_similarity(m ,n):\n",
    "    similarity = rltk.levenshtein_similarity(m,n)\n",
    "    \n",
    "    if similarity > 0.7:\n",
    "        similarity = 1\n",
    "        return similarity\n",
    "    else:\n",
    "        return similarity"
   ]
  },
  {
   "cell_type": "code",
   "execution_count": 14,
   "metadata": {},
   "outputs": [],
   "source": [
    "foods = []\n",
    "for item in couple:\n",
    "    if item in food_class_dict:\n",
    "        foods.append(item)\n",
    "        continue\n",
    "    \n",
    "    food_token = item.split(\" \")\n",
    "    \n",
    "    candits = set()\n",
    "    for token in food_token:\n",
    "        if token in fre_tokens:\n",
    "            for _ in fre_tokens[token]:\n",
    "                candits.add(idx_name[_])\n",
    "            \n",
    "    highest = (0,\"\")\n",
    "    for candit in candits:\n",
    "        s1 = food_token\n",
    "        s2 = candit.split(\" \")\n",
    "        similarity = rltk.hybrid_jaccard_similarity(set(s1), set(s2),function=hybrid_similarity)\n",
    "        \n",
    "        if similarity > highest[0]:\n",
    "            highest = (similarity, candit)\n",
    "            \n",
    "    if highest[-1]:\n",
    "        foods.append(highest[-1])"
   ]
  },
  {
   "cell_type": "code",
   "execution_count": 15,
   "metadata": {},
   "outputs": [],
   "source": [
    "id_s = []\n",
    "\n",
    "for food in foods:\n",
    "    id_s.append(food_class_dict[food])"
   ]
  },
  {
   "cell_type": "code",
   "execution_count": 16,
   "metadata": {},
   "outputs": [
    {
     "data": {
      "text/plain": [
       "(['japanese noodles'], ['Q17116319'])"
      ]
     },
     "execution_count": 16,
     "metadata": {},
     "output_type": "execute_result"
    }
   ],
   "source": [
    "foods,id_s"
   ]
  },
  {
   "cell_type": "code",
   "execution_count": 17,
   "metadata": {},
   "outputs": [
    {
     "data": {
      "text/plain": [
       "'Q147538'"
      ]
     },
     "execution_count": 17,
     "metadata": {},
     "output_type": "execute_result"
    }
   ],
   "source": [
    "food_class_dict[\"soft drink\"]"
   ]
  },
  {
   "cell_type": "code",
   "execution_count": 267,
   "metadata": {
    "scrolled": true
   },
   "outputs": [],
   "source": [
    "def search_food(id_):\n",
    "    # search food by the id of class in food ontology \n",
    "    id_ = \"wd:\"+id_\n",
    "\n",
    "    sparql = SPARQLWrapper(\"http://localhost:3030/food/query\")\n",
    "    sparql.setQuery(f\"\"\"\n",
    "        PREFIX my_ns: <http://dsci558.org/myfakenamespace#>\n",
    "        PREFIX rdf: <http://www.w3.org/1999/02/22-rdf-syntax-ns#> \n",
    "        PREFIX rdfs: <http://www.w3.org/2000/01/rdf-schema#> \n",
    "        PREFIX wd: <http://www.wikidata.org/entity/> \n",
    "        PREFIX xsd: <http://www.w3.org/2001/XMLSchema#> \n",
    "\n",
    "        SELECT ?rest (group_concat(distinct(?name); separator=\", \") as ?f)\n",
    "        WHERE {{\n",
    "        {{\n",
    "        {{?food rdfs:subClassOf {id_} .}}\n",
    "        UNION\n",
    "        {{?food rdfs:subClassOf/rdfs:subClassOf {id_} .}}\n",
    "        UNION\n",
    "        {{?food rdfs:subClassOf/rdfs:subClassOf/rdfs:subClassOf {id_} .}}\n",
    "        UNION\n",
    "        {{?food rdfs:subClassOf/rdfs:subClassOf/rdfs:subClassOf/rdfs:subClassOf {id_} .}}\n",
    "        UNION\n",
    "        {{?food rdfs:subClassOf/rdfs:subClassOf/rdfs:subClassOf/rdfs:subClassOf/rdfs:subClassOf {id_} .}}\n",
    "        }}\n",
    "        {{?rest my_ns:hasFood [a ?food;\n",
    "        rdfs:label ?name]}}\n",
    "        UNION\n",
    "        {{?rest my_ns:hasFood [a {id_};\n",
    "        rdfs:label ?name]}}\n",
    "         }} group by ?rest order by desc(count(?name))\n",
    "         limit 200\n",
    "    \"\"\")\n",
    "    sparql.setReturnFormat(JSON)\n",
    "    results = sparql.query().convert()\n",
    "    \n",
    "    combine = [ (_[\"rest\"][\"value\"],_[\"f\"][\"value\"]) for _ in results[\"results\"][\"bindings\"]]\n",
    "    return combine\n",
    "#uri_s = [_[\"rest\"][\"value\"] for _ in results[\"results\"][\"bindings\"]]"
   ]
  },
  {
   "cell_type": "code",
   "execution_count": 268,
   "metadata": {},
   "outputs": [
    {
     "data": {
      "text/plain": [
       "[('https://www.tripadvisor.com/Restaurant_Review-g32655-d3800202-Reviews-or130-Tsujita_LA-Los_Angeles_California.html',\n",
       "  'tsukemen, udon noodle, ramen, japanese noodle, japanese style noodle, japanese noodle bar'),\n",
       " ('https://www.tripadvisor.com/Restaurant_Review-g32655-d1022582-Reviews-or200-Daikokuya-Los_Angeles_California.html',\n",
       "  'tsukemen, tonkotsu ramen, ramen, japanese noodle'),\n",
       " ('https://www.tripadvisor.com/Restaurant_Review-g32655-d3321000-Reviews-or10-Cha_Cha_Chili-Los_Angeles_California.html',\n",
       "  'japanese noodle'),\n",
       " ('https://www.tripadvisor.com/Restaurant_Review-g32655-d4178694-Reviews-or130-Tatsu_Ramen-Los_Angeles_California.html',\n",
       "  'japanese noodle'),\n",
       " ('https://www.tripadvisor.com/Restaurant_Review-g32655-d12655622-Reviews-Dosanko_Ramen-Los_Angeles_California.html',\n",
       "  'deluxe shio butter raman, red miso raman, white miso raman'),\n",
       " ('https://www.tripadvisor.com/Restaurant_Review-g32655-d4019757-Reviews-or70-Marugame_Monzo-Los_Angeles_California.html',\n",
       "  'hot sansai udon, udon, udon noodle'),\n",
       " ('https://www.tripadvisor.com/Restaurant_Review-g32655-d348804-Reviews-or30-Pearl_Dragon-Los_Angeles_California.html',\n",
       "  'soba, udon noodle, udon'),\n",
       " ('https://www.tripadvisor.com/Restaurant_Review-g32655-d468374-Reviews-or20-Yabu-Los_Angeles_California.html',\n",
       "  'soba, udon noodle, udon'),\n",
       " ('https://www.tripadvisor.com/Restaurant_Review-g32655-d12932992-Reviews-or10-Marugame_Udon-Los_Angeles_California.html',\n",
       "  'udon, udon noodle, cold udon tofu salad'),\n",
       " ('https://www.tripadvisor.com/Restaurant_Review-g32655-d348079-Reviews-or30-Asahi_Ramen-Los_Angeles_California.html',\n",
       "  'yakisoba, tanmen miso chicken, sara udon'),\n",
       " ('https://www.tripadvisor.com/Restaurant_Review-g32655-d11802582-Reviews-Tsurumaru_Udon_Honpo-Los_Angeles_California.html',\n",
       "  'kitsune, udon'),\n",
       " ('https://www.tripadvisor.com/Restaurant_Review-g32655-d2587402-Reviews-or10-Kyushu_Ramen-Los_Angeles_California.html',\n",
       "  'miso raman with pork, curry raman'),\n",
       " ('https://www.tripadvisor.com/Restaurant_Review-g32655-d348154-Reviews-or10-Taiko-Los_Angeles_California.html',\n",
       "  'nabeyaki udon, udon'),\n",
       " ('https://www.tripadvisor.com/Restaurant_Review-g32655-d4821211-Reviews-Sanuki_Sandou-Los_Angeles_California.html',\n",
       "  'nabeyaki udon, udon'),\n",
       " ('https://www.tripadvisor.com/Restaurant_Review-g32655-d4975430-Reviews-California_Teriyaki_Grill-Los_Angeles_California.html',\n",
       "  'soba, udon'),\n",
       " ('https://www.tripadvisor.com/Restaurant_Review-g32655-d10481784-Reviews-or10-Noodle_World_Jr-Los_Angeles_California.html',\n",
       "  'udon noodle, udon'),\n",
       " ('https://www.tripadvisor.com/Restaurant_Review-g32655-d5093386-Reviews-Onkei_Ramen-Los_Angeles_California.html',\n",
       "  'udon, miso chicken raman'),\n",
       " ('https://www.tripadvisor.com/Restaurant_Review-g32655-d1776601-Reviews-or250-Katsuya_LA_Live-Los_Angeles_California.html',\n",
       "  'udon, nabeyaki udon'),\n",
       " ('https://www.tripadvisor.com/Restaurant_Review-g32655-d12502608-Reviews-Chaya_Sushi-Los_Angeles_California.html',\n",
       "  'udon, sapporo beer'),\n",
       " ('https://www.tripadvisor.com/Restaurant_Review-g32655-d15168763-Reviews-Kochi-Los_Angeles_California.html',\n",
       "  'udon, udon noodle'),\n",
       " ('https://www.tripadvisor.com/Restaurant_Review-g32655-d364847-Reviews-or50-Suehiro_Cafe-Los_Angeles_California.html',\n",
       "  'udon, udon noodle'),\n",
       " ('https://www.tripadvisor.com/Restaurant_Review-g32655-d12164764-Reviews-Yakipan-Los_Angeles_California.html',\n",
       "  'udon, yakisoba'),\n",
       " ('https://www.tripadvisor.com/Restaurant_Review-g32655-d3315265-Reviews-or60-Kino_Sushi-Los_Angeles_California.html',\n",
       "  'udon, yakisoba'),\n",
       " ('https://www.tripadvisor.com/Restaurant_Review-g32655-d4278468-Reviews-or140-Cho_Oishi-Los_Angeles_California.html',\n",
       "  'udon, yakisoba'),\n",
       " ('https://www.tripadvisor.com/Restaurant_Review-g32655-d447916-Reviews-or20-Kouraku_Restaurant-Los_Angeles_California.html',\n",
       "  'yakisoba, champon'),\n",
       " ('https://www.tripadvisor.com/Restaurant_Review-g32655-d468464-Reviews-or10-Ramen_Nippon-Los_Angeles_California.html',\n",
       "  'yakisoba, udon'),\n",
       " ('https://www.tripadvisor.com/Restaurant_Review-g32655-d14608893-Reviews-Tamashi_Ramen_House-Los_Angeles_California.html',\n",
       "  'black tonkotsu raman'),\n",
       " ('https://www.tripadvisor.com/Restaurant_Review-g32655-d3665408-Reviews-or60-Silver_Lake_Ramen-Los_Angeles_California.html',\n",
       "  'chicken shoyu raman'),\n",
       " ('https://www.tripadvisor.com/Restaurant_Review-g32655-d4131833-Reviews-Tamashii_Ramen_House-Los_Angeles_California.html',\n",
       "  'miso raman with pork'),\n",
       " ('https://www.tripadvisor.com/Restaurant_Review-g32655-d8600447-Reviews-or20-Shin_Ramen-Los_Angeles_California.html',\n",
       "  'miso raman with pork'),\n",
       " ('https://www.tripadvisor.com/Restaurant_Review-g32655-d11658988-Reviews-or60-Costero_California_Bar_Bistro-Los_Angeles_California.html',\n",
       "  'miso salmon'),\n",
       " ('https://www.tripadvisor.com/Restaurant_Review-g32655-d468658-Reviews-or100-The_Cheesecake_Factory-Los_Angeles_California.html',\n",
       "  'miso salmon'),\n",
       " ('https://www.tripadvisor.com/Restaurant_Review-g32655-d626563-Reviews-or240-Truxton_s_American_Bistro-Los_Angeles_California.html',\n",
       "  'miso salmon'),\n",
       " ('https://www.tripadvisor.com/Restaurant_Review-g32655-d8787243-Reviews-O_woks_Los_Angeles-Los_Angeles_California.html',\n",
       "  'miso salmon'),\n",
       " ('https://www.tripadvisor.com/Restaurant_Review-g32655-d1995717-Reviews-or20-Fu_Ga-Los_Angeles_California.html',\n",
       "  'nabeyaki udon'),\n",
       " ('https://www.tripadvisor.com/Restaurant_Review-g32655-d527637-Reviews-or10-Teishokuya_of_Tokyo-Los_Angeles_California.html',\n",
       "  'nabeyaki udon'),\n",
       " ('https://www.tripadvisor.com/Restaurant_Review-g32655-d926243-Reviews-Sasaya-Los_Angeles_California.html',\n",
       "  'new udon bar'),\n",
       " ('https://www.tripadvisor.com/Restaurant_Review-g32655-d813447-Reviews-or100-Izaka_ya_by_katsuya-Los_Angeles_California.html',\n",
       "  'okinawa soba'),\n",
       " ('https://www.tripadvisor.com/Restaurant_Review-g32655-d4205821-Reviews-or30-Urban_Ramen-Los_Angeles_California.html',\n",
       "  'pork miso raman'),\n",
       " ('https://www.tripadvisor.com/Restaurant_Review-g32655-d12398575-Reviews-Men_Oh_Tokushima_ramen-Los_Angeles_California.html',\n",
       "  'ramen'),\n",
       " ('https://www.tripadvisor.com/Restaurant_Review-g32655-d12478074-Reviews-Tengoku_Ramen_Bar-Los_Angeles_California.html',\n",
       "  'ramen'),\n",
       " ('https://www.tripadvisor.com/Restaurant_Review-g32655-d14183811-Reviews-Rakkan-Los_Angeles_California.html',\n",
       "  'ramen'),\n",
       " ('https://www.tripadvisor.com/Restaurant_Review-g32655-d2634514-Reviews-or50-JINYA_Ramen_Bar-Los_Angeles_California.html',\n",
       "  'ramen'),\n",
       " ('https://www.tripadvisor.com/Restaurant_Review-g32655-d953433-Reviews-or40-Santouka_Ramen-Los_Angeles_California.html',\n",
       "  'ramen'),\n",
       " ('https://www.tripadvisor.com/Restaurant_Review-g32655-d17760673-Reviews-Karayama-Los_Angeles_California.html',\n",
       "  'sapporo beer'),\n",
       " ('https://www.tripadvisor.com/Restaurant_Review-g32655-d4049860-Reviews-or10-Shiki_Sushi-Los_Angeles_California.html',\n",
       "  'sapporo beer'),\n",
       " ('https://www.tripadvisor.com/Restaurant_Review-g32655-d485699-Reviews-or20-Pho_999-Los_Angeles_California.html',\n",
       "  'sapporo beer'),\n",
       " ('https://www.tripadvisor.com/Restaurant_Review-g32655-d5082021-Reviews-or10-Sushi_Ichiban_Kan-Los_Angeles_California.html',\n",
       "  'sapporo beer'),\n",
       " ('https://www.tripadvisor.com/Restaurant_Review-g32655-d866665-Reviews-or20-Sushi_Komasa-Los_Angeles_California.html',\n",
       "  'sapporo beer'),\n",
       " ('https://www.tripadvisor.com/Restaurant_Review-g32655-d10535117-Reviews-or30-The_Ramen_Joint-Los_Angeles_California.html',\n",
       "  'shoyu chicken raman'),\n",
       " ('https://www.tripadvisor.com/Restaurant_Review-g32655-d15327339-Reviews-Hachioji_Craft_Ramen-Los_Angeles_California.html',\n",
       "  'shoyu raman with pork'),\n",
       " ('https://www.tripadvisor.com/Restaurant_Review-g32655-d844463-Reviews-or40-Mr_Ramen-Los_Angeles_California.html',\n",
       "  'shrimp curry raman'),\n",
       " ('https://www.tripadvisor.com/Restaurant_Review-g32655-d1308472-Reviews-or10-Bistro_Ka_Japanese_Restaurant-Los_Angeles_California.html',\n",
       "  'soba'),\n",
       " ('https://www.tripadvisor.com/Restaurant_Review-g32655-d1723582-Reviews-or60-Cacao_Mexicatessen-Los_Angeles_California.html',\n",
       "  'soba'),\n",
       " ('https://www.tripadvisor.com/Restaurant_Review-g32655-d4567493-Reviews-or30-Tomoya_Sushi_and_Izakaya-Los_Angeles_California.html',\n",
       "  'soba'),\n",
       " ('https://www.tripadvisor.com/Restaurant_Review-g32655-d4716433-Reviews-Hannosuke-Los_Angeles_California.html',\n",
       "  'soba'),\n",
       " ('https://www.tripadvisor.com/Restaurant_Review-g32655-d12862812-Reviews-or10-Little_Fatty_s-Los_Angeles_California.html',\n",
       "  'taiwan beer'),\n",
       " ('https://www.tripadvisor.com/Restaurant_Review-g32655-d350129-Reviews-or40-Mandarette-Los_Angeles_California.html',\n",
       "  'taiwan beer'),\n",
       " ('https://www.tripadvisor.com/Restaurant_Review-g32655-d3180816-Reviews-Noodle_Star-Los_Angeles_California.html',\n",
       "  'tonkotsu ramen'),\n",
       " ('https://www.tripadvisor.com/Restaurant_Review-g32655-d9567979-Reviews-or40-Slurpin_Ramen_Bar-Los_Angeles_California.html',\n",
       "  'tsukemen'),\n",
       " ('https://www.tripadvisor.com/Restaurant_Review-g32655-d12687443-Reviews-or30-Ramen_Maruya-Los_Angeles_California.html',\n",
       "  'udon'),\n",
       " ('https://www.tripadvisor.com/Restaurant_Review-g32655-d13220162-Reviews-Izakaya_Gazen-Los_Angeles_California.html',\n",
       "  'udon'),\n",
       " ('https://www.tripadvisor.com/Restaurant_Review-g32655-d17779632-Reviews-Marugame_Udon-Los_Angeles_California.html',\n",
       "  'udon'),\n",
       " ('https://www.tripadvisor.com/Restaurant_Review-g32655-d1976504-Reviews-or10-Yojie_Japanese_Fondue_and_Sake_Bar-Los_Angeles_California.html',\n",
       "  'udon'),\n",
       " ('https://www.tripadvisor.com/Restaurant_Review-g32655-d2350135-Reviews-or60-Shin_Sen_Gumi_LA-Los_Angeles_California.html',\n",
       "  'udon'),\n",
       " ('https://www.tripadvisor.com/Restaurant_Review-g32655-d348026-Reviews-or20-En_Sushi-Los_Angeles_California.html',\n",
       "  'udon'),\n",
       " ('https://www.tripadvisor.com/Restaurant_Review-g32655-d352645-Reviews-or40-Kifune_Sushi_Bar-Los_Angeles_California.html',\n",
       "  'udon'),\n",
       " ('https://www.tripadvisor.com/Restaurant_Review-g32655-d364841-Reviews-or20-Kiku_Sushi-Los_Angeles_California.html',\n",
       "  'udon'),\n",
       " ('https://www.tripadvisor.com/Restaurant_Review-g32655-d364924-Reviews-or60-Wasabi-Los_Angeles_California.html',\n",
       "  'udon'),\n",
       " ('https://www.tripadvisor.com/Restaurant_Review-g32655-d371864-Reviews-or40-Sakura_Japanese_Restaurant-Los_Angeles_California.html',\n",
       "  'udon'),\n",
       " ('https://www.tripadvisor.com/Restaurant_Review-g32655-d4043641-Reviews-Restaurant_Oiwake-Los_Angeles_California.html',\n",
       "  'udon'),\n",
       " ('https://www.tripadvisor.com/Restaurant_Review-g32655-d4054763-Reviews-or30-Kagura_Downtown-Los_Angeles_California.html',\n",
       "  'udon'),\n",
       " ('https://www.tripadvisor.com/Restaurant_Review-g32655-d4155960-Reviews-Curry_Up_Cafe-Los_Angeles_California.html',\n",
       "  'udon'),\n",
       " ('https://www.tripadvisor.com/Restaurant_Review-g32655-d4231052-Reviews-Kyoto_Sushi-Los_Angeles_California.html',\n",
       "  'udon'),\n",
       " ('https://www.tripadvisor.com/Restaurant_Review-g32655-d4274422-Reviews-or30-Yuko_Kitchen-Los_Angeles_California.html',\n",
       "  'udon'),\n",
       " ('https://www.tripadvisor.com/Restaurant_Review-g32655-d4370885-Reviews-or10-Las_Galas-Los_Angeles_California.html',\n",
       "  'udon'),\n",
       " ('https://www.tripadvisor.com/Restaurant_Review-g32655-d4416806-Reviews-or20-Sushi_Stop-Los_Angeles_California.html',\n",
       "  'udon'),\n",
       " ('https://www.tripadvisor.com/Restaurant_Review-g32655-d4659861-Reviews-Nabeeya_Fusion_Cafe-Los_Angeles_California.html',\n",
       "  'udon'),\n",
       " ('https://www.tripadvisor.com/Restaurant_Review-g32655-d494694-Reviews-or30-Daichan-Los_Angeles_California.html',\n",
       "  'udon'),\n",
       " ('https://www.tripadvisor.com/Restaurant_Review-g32655-d4947217-Reviews-Senfuku_Japanese_Restaurant-Los_Angeles_California.html',\n",
       "  'udon'),\n",
       " ('https://www.tripadvisor.com/Restaurant_Review-g32655-d5006465-Reviews-Spoon_by_H-Los_Angeles_California.html',\n",
       "  'udon'),\n",
       " ('https://www.tripadvisor.com/Restaurant_Review-g32655-d5018239-Reviews-or10-Sushi_Katsu_Ya-Los_Angeles_California.html',\n",
       "  'udon'),\n",
       " ('https://www.tripadvisor.com/Restaurant_Review-g32655-d5045679-Reviews-Soy_Roll_and_Katsu-Los_Angeles_California.html',\n",
       "  'udon'),\n",
       " ('https://www.tripadvisor.com/Restaurant_Review-g32655-d5088961-Reviews-Sawtelle_Tempura_House-Los_Angeles_California.html',\n",
       "  'udon'),\n",
       " ('https://www.tripadvisor.com/Restaurant_Review-g32655-d524615-Reviews-Atch_Kotch_Japanese_Restaurant-Los_Angeles_California.html',\n",
       "  'udon'),\n",
       " ('https://www.tripadvisor.com/Restaurant_Review-g32655-d537061-Reviews-Itacho_Japanese_Restaurant-Los_Angeles_California.html',\n",
       "  'udon'),\n",
       " ('https://www.tripadvisor.com/Restaurant_Review-g32655-d6557716-Reviews-or30-Kura_Revolving_Sushi_Bar-Los_Angeles_California.html',\n",
       "  'udon'),\n",
       " ('https://www.tripadvisor.com/Restaurant_Review-g32655-d7246347-Reviews-or50-SUGARFISH_by_sushi_nozawa-Los_Angeles_California.html',\n",
       "  'udon'),\n",
       " ('https://www.tripadvisor.com/Restaurant_Review-g32655-d7316680-Reviews-Dancing_Wasabi-Los_Angeles_California.html',\n",
       "  'udon'),\n",
       " ('https://www.tripadvisor.com/Restaurant_Review-g32655-d805250-Reviews-or70-M_Cafe_de_Chaya-Los_Angeles_California.html',\n",
       "  'udon'),\n",
       " ('https://www.tripadvisor.com/Restaurant_Review-g32655-d815858-Reviews-or20-Kagaya_japanese_restaurant-Los_Angeles_California.html',\n",
       "  'udon'),\n",
       " ('https://www.tripadvisor.com/Restaurant_Review-g32655-d818629-Reviews-or80-Shintaro-Los_Angeles_California.html',\n",
       "  'udon'),\n",
       " ('https://www.tripadvisor.com/Restaurant_Review-g32655-d8520161-Reviews-or60-Blue_Ribbon_Sushi_Bar_Grill-Los_Angeles_California.html',\n",
       "  'udon'),\n",
       " ('https://www.tripadvisor.com/Restaurant_Review-g32655-d12904506-Reviews-Isa_Japanese-Los_Angeles_California.html',\n",
       "  'udon noodle'),\n",
       " ('https://www.tripadvisor.com/Restaurant_Review-g32655-d2520139-Reviews-or30-Vegan_House_in_Hollywood-Los_Angeles_California.html',\n",
       "  'udon noodle'),\n",
       " ('https://www.tripadvisor.com/Restaurant_Review-g32655-d3211207-Reviews-or90-Oomasa-Los_Angeles_California.html',\n",
       "  'udon noodle'),\n",
       " ('https://www.tripadvisor.com/Restaurant_Review-g32655-d4715236-Reviews-Morinoya-Los_Angeles_California.html',\n",
       "  'udon noodle'),\n",
       " ('https://www.tripadvisor.com/Restaurant_Review-g32655-d808181-Reviews-or20-Kura_Sushi-Los_Angeles_California.html',\n",
       "  'udon noodle'),\n",
       " ('https://www.tripadvisor.com/Restaurant_Review-g32655-d8664916-Reviews-Tosa_Express-Los_Angeles_California.html',\n",
       "  'udon noodle'),\n",
       " ('https://www.tripadvisor.com/Restaurant_Review-g32655-d9591166-Reviews-Musashiya_Udon_Noodle-Los_Angeles_California.html',\n",
       "  'udon noodle'),\n",
       " ('https://www.tripadvisor.com/Restaurant_Review-g32655-d1063883-Reviews-Chunju_Han_il_Kwan-Los_Angeles_California.html',\n",
       "  'udon type noodle'),\n",
       " ('https://www.tripadvisor.com/Restaurant_Review-g32655-d4068792-Reviews-or50-Robata_JINYA-Los_Angeles_California.html',\n",
       "  'yaki vegetable'),\n",
       " ('https://www.tripadvisor.com/Restaurant_Review-g32655-d1144617-Reviews-Hana_Ichimonme-Los_Angeles_California.html',\n",
       "  'yakisoba'),\n",
       " ('https://www.tripadvisor.com/Restaurant_Review-g32655-d348085-Reviews-or40-Gyu_Kaku_Japanese_BBQ-Los_Angeles_California.html',\n",
       "  'yakisoba')]"
      ]
     },
     "execution_count": 268,
     "metadata": {},
     "output_type": "execute_result"
    }
   ],
   "source": [
    "search_food(\"Q17116319\")"
   ]
  },
  {
   "cell_type": "code",
   "execution_count": 251,
   "metadata": {},
   "outputs": [],
   "source": [
    "def search_res_with_food(food_uri):\n",
    "\n",
    "    sparql_ = SPARQLWrapper(\"http://localhost:3030/rest_hotel/query\")\n",
    "    sparql_.setQuery(f\"\"\"\n",
    "        PREFIX my_ns: <http://dsci558.org/myfakenamespace#>\n",
    "        PREFIX rdf: <http://www.w3.org/1999/02/22-rdf-syntax-ns#> \n",
    "        PREFIX rdfs: <http://www.w3.org/2000/01/rdf-schema#> \n",
    "        PREFIX wd: <http://www.wikidata.org/entity/> \n",
    "        PREFIX xsd: <http://www.w3.org/2001/XMLSchema#> \n",
    "\n",
    "        SELECT ?name ?rate ?price ?location (max(?value) as ?v)\n",
    "        {{ {food_uri} my_ns:name ?name ;\n",
    "        my_ns:rating ?rate ;\n",
    "        my_ns:price ?price ;\n",
    "        my_ns:location ?location ;\n",
    "        a my_ns:restaurant ;\n",
    "        my_ns:hasFood [my_ns:name ?food_name;\n",
    "        rdf:value ?value]\n",
    "        FILTER (?food_name != \"food\")\n",
    "        }}\n",
    "        group by ?name ?rate ?price ?location limit 100\n",
    "    \"\"\")\n",
    "    sparql_.setReturnFormat(JSON)\n",
    "    results = sparql_.query().convert()\n",
    "    \n",
    "    count = results[\"results\"][\"bindings\"][0][\"v\"][\"value\"]\n",
    "    \n",
    "    sparql_.setQuery(f\"\"\"\n",
    "        PREFIX my_ns: <http://dsci558.org/myfakenamespace#>\n",
    "        PREFIX rdf: <http://www.w3.org/1999/02/22-rdf-syntax-ns#> \n",
    "        PREFIX rdfs: <http://www.w3.org/2000/01/rdf-schema#> \n",
    "        PREFIX wd: <http://www.wikidata.org/entity/> \n",
    "        PREFIX xsd: <http://www.w3.org/2001/XMLSchema#> \n",
    "\n",
    "        SELECT ?food_name\n",
    "        {{ {food_uri} \n",
    "        my_ns:hasFood [my_ns:name ?food_name;\n",
    "        rdf:value {count}]\n",
    "        }}\n",
    "        limit 1\n",
    "    \"\"\")\n",
    "    \n",
    "    sparql_.setReturnFormat(JSON)\n",
    "    results2 = sparql_.query().convert()\n",
    "    \n",
    "    data = results[\"results\"][\"bindings\"][0]\n",
    "    data[\"food\"] = results2[\"results\"][\"bindings\"][0][\"food_name\"]\n",
    "    \n",
    "    res = dict()\n",
    "    \n",
    "    for item in data:\n",
    "        res[item] = data[item][\"value\"]\n",
    "    \n",
    "    del res[\"v\"]\n",
    "    return res"
   ]
  },
  {
   "cell_type": "code",
   "execution_count": 252,
   "metadata": {},
   "outputs": [
    {
     "data": {
      "text/plain": [
       "{'name': \"Guido's\",\n",
       " 'rate': '4.0',\n",
       " 'price': '$$ - $$$',\n",
       " 'location': '14556 Polk St, Los Angeles, CA 90025',\n",
       " 'food': 'cioppino'}"
      ]
     },
     "execution_count": 252,
     "metadata": {},
     "output_type": "execute_result"
    }
   ],
   "source": [
    "search_res_with_food(\"<https://www.tripadvisor.com/Restaurant_Review-g32655-d348188-Reviews-or30-Guido_s-Los_Angeles_California.html>\")"
   ]
  },
  {
   "cell_type": "code",
   "execution_count": 243,
   "metadata": {},
   "outputs": [],
   "source": [
    "test = search_food('Q17116319')[0]"
   ]
  },
  {
   "cell_type": "code",
   "execution_count": 244,
   "metadata": {},
   "outputs": [
    {
     "data": {
      "text/plain": [
       "'http://www.wikidata.org/entity/Q11271930'"
      ]
     },
     "execution_count": 244,
     "metadata": {},
     "output_type": "execute_result"
    }
   ],
   "source": [
    "test"
   ]
  },
  {
   "cell_type": "code",
   "execution_count": 15,
   "metadata": {},
   "outputs": [
    {
     "data": {
      "text/plain": [
       "{'head': {'vars': ['s', 'p', 'o']},\n",
       " 'results': {'bindings': [{'s': {'type': 'bnode', 'value': 'b0'},\n",
       "    'p': {'type': 'uri',\n",
       "     'value': 'http://dsci558.org/myfakenamespace#hasSent'},\n",
       "    'o': {'type': 'literal',\n",
       "     'value': 'this area of la seems pretty safe with lots of folks walking around and touring.more downtown area little tokyo understandably has an abundance noodle bars.'}},\n",
       "   {'s': {'type': 'bnode', 'value': 'b0'},\n",
       "    'p': {'type': 'uri', 'value': 'http://dsci558.org/myfakenamespace#name'},\n",
       "    'o': {'type': 'literal', 'value': 'abundance noodle bar'}},\n",
       "   {'s': {'type': 'bnode', 'value': 'b0'},\n",
       "    'p': {'type': 'uri',\n",
       "     'value': 'http://www.w3.org/1999/02/22-rdf-syntax-ns#value'},\n",
       "    'o': {'type': 'literal',\n",
       "     'datatype': 'http://www.w3.org/2001/XMLSchema#integer',\n",
       "     'value': '1'}}]}}"
      ]
     },
     "execution_count": 15,
     "metadata": {},
     "output_type": "execute_result"
    }
   ],
   "source": [
    "def search_res_with_food(food_uri):\n",
    "    sparql = SPARQLWrapper(\"http://localhost:3030/rest_hotel/query\")\n",
    "    sparql.setQuery(\"\"\"\n",
    "        PREFIX my_ns: <http://dsci558.org/myfakenamespace#> \n",
    "        PREFIX rdf: <http://www.w3.org/1999/02/22-rdf-syntax-ns#> \n",
    "        PREFIX schema: <https://schema.org/> \n",
    "        PREFIX xsd: <http://www.w3.org/2001/XMLSchema#> \n",
    "        SELECT ?rest\n",
    "        WHERE { ?rest a my_ns:restaurant ;\n",
    "        my_ns:hasFood/m}\n",
    "    \"\"\")\n",
    "    sparql.setReturnFormat(JSON)\n",
    "    results = sparql.query().convert()\n",
    "\n",
    "results"
   ]
  },
  {
   "cell_type": "code",
   "execution_count": null,
   "metadata": {},
   "outputs": [],
   "source": []
  }
 ],
 "metadata": {
  "kernelspec": {
   "display_name": "Python [conda env:inf558]",
   "language": "python",
   "name": "conda-env-inf558-py"
  },
  "language_info": {
   "codemirror_mode": {
    "name": "ipython",
    "version": 3
   },
   "file_extension": ".py",
   "mimetype": "text/x-python",
   "name": "python",
   "nbconvert_exporter": "python",
   "pygments_lexer": "ipython3",
   "version": "3.7.9"
  }
 },
 "nbformat": 4,
 "nbformat_minor": 4
}
