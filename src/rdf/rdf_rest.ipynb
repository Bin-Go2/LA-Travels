{
 "cells": [
  {
   "cell_type": "code",
   "execution_count": 30,
   "metadata": {},
   "outputs": [],
   "source": [
    "import jsonlines as jl"
   ]
  },
  {
   "cell_type": "code",
   "execution_count": 31,
   "metadata": {},
   "outputs": [],
   "source": [
    "with jl.open(\"RESTAURANT.json\",\"r\") as f:\n",
    "    data_lines = []\n",
    "    for line in f:\n",
    "        del line[\"_id\"]\n",
    "        data_lines.append(line)"
   ]
  },
  {
   "cell_type": "code",
   "execution_count": 32,
   "metadata": {},
   "outputs": [],
   "source": [
    "import pandas as pd"
   ]
  },
  {
   "cell_type": "code",
   "execution_count": 33,
   "metadata": {},
   "outputs": [],
   "source": [
    "df = pd.DataFrame(data_lines)"
   ]
  },
  {
   "cell_type": "code",
   "execution_count": 34,
   "metadata": {},
   "outputs": [
    {
     "data": {
      "text/html": [
       "<div>\n",
       "<style scoped>\n",
       "    .dataframe tbody tr th:only-of-type {\n",
       "        vertical-align: middle;\n",
       "    }\n",
       "\n",
       "    .dataframe tbody tr th {\n",
       "        vertical-align: top;\n",
       "    }\n",
       "\n",
       "    .dataframe thead th {\n",
       "        text-align: right;\n",
       "    }\n",
       "</style>\n",
       "<table border=\"1\" class=\"dataframe\">\n",
       "  <thead>\n",
       "    <tr style=\"text-align: right;\">\n",
       "      <th></th>\n",
       "      <th>name</th>\n",
       "      <th>stars</th>\n",
       "      <th>rating</th>\n",
       "      <th>price</th>\n",
       "      <th>cusine_type</th>\n",
       "      <th>location</th>\n",
       "      <th>hotels</th>\n",
       "      <th>rests</th>\n",
       "      <th>attrcs</th>\n",
       "      <th>special_foods</th>\n",
       "      <th>review_txt</th>\n",
       "      <th>url</th>\n",
       "    </tr>\n",
       "  </thead>\n",
       "  <tbody>\n",
       "    <tr>\n",
       "      <th>0</th>\n",
       "      <td>Domingo's Italian Deli</td>\n",
       "      <td>4.5 of 5 bubbles</td>\n",
       "      <td>#2,479</td>\n",
       "      <td></td>\n",
       "      <td>[Italian]</td>\n",
       "      <td>17548 Ventura Blvd, Los Angeles, CA 91316-3835</td>\n",
       "      <td>[[Super 8 by Wyndham North Hollywood, 7.51], [...</td>\n",
       "      <td>[[Sushi Stop, 0.06], [Uncle Bernie's Deli, 0.0...</td>\n",
       "      <td>[[Panel B, not-list], [The Red Room, not-list]...</td>\n",
       "      <td>[]</td>\n",
       "      <td>[I walk into this place looking for authentic ...</td>\n",
       "      <td>https://www.tripadvisor.com/Restaurant_Review-...</td>\n",
       "    </tr>\n",
       "    <tr>\n",
       "      <th>1</th>\n",
       "      <td>Greco's Pizzeria</td>\n",
       "      <td>3.5 of 5 bubbles</td>\n",
       "      <td>#186</td>\n",
       "      <td>$</td>\n",
       "      <td>[Quick Bites, American, Pizza]</td>\n",
       "      <td>6814 Hollywood Blvd, Los Angeles, CA 90028-6102</td>\n",
       "      <td>[[Tilt Hotel Universal / Hollywood, an Ascend ...</td>\n",
       "      <td>[[Ghirardelli Soda Fountain &amp; Chocolate Shop, ...</td>\n",
       "      <td>[[The Hollywood Museum, 0.05], [Dolby Theatre,...</td>\n",
       "      <td>[]</td>\n",
       "      <td>[After a log haul flight, we wanted a quick sn...</td>\n",
       "      <td>https://www.tripadvisor.com/Restaurant_Review-...</td>\n",
       "    </tr>\n",
       "    <tr>\n",
       "      <th>2</th>\n",
       "      <td>JOEY DTLA</td>\n",
       "      <td>4.5 of 5 bubbles</td>\n",
       "      <td>#146</td>\n",
       "      <td>$$ - $$$</td>\n",
       "      <td>[American, Bar, Vegetarian Friendly]</td>\n",
       "      <td>700 W 7th St Ste S430, Los Angeles, CA 90017</td>\n",
       "      <td>[[Hometel Suites, 2.32], [Hotel Aventura, 2.29...</td>\n",
       "      <td>[[SUGARFISH by sushi nozawa, 0.08], [The Count...</td>\n",
       "      <td>[[Macy's Plaza, 0.03], [Oviatt Building, 0.18]...</td>\n",
       "      <td>[lobster ravioli , sushi cones , lava cake , s...</td>\n",
       "      <td>[Had the New Cobb Salad today and it was amazi...</td>\n",
       "      <td>https://www.tripadvisor.com/Restaurant_Review-...</td>\n",
       "    </tr>\n",
       "    <tr>\n",
       "      <th>3</th>\n",
       "      <td>Whole Foods Market</td>\n",
       "      <td>4.5 of 5 bubbles</td>\n",
       "      <td>#132</td>\n",
       "      <td>$$ - $$$</td>\n",
       "      <td>[American, Vegetarian Friendly, Vegan Options]</td>\n",
       "      <td>788 S Grand Ave, Los Angeles, CA 90017</td>\n",
       "      <td>[[Best Western Plus LA Mid-Town Hotel, 2.37], ...</td>\n",
       "      <td>[[Bottega Louie, 0.1], [Little Sister, 0.1], [...</td>\n",
       "      <td>[[FIDM Museum and Galleries, 0.2], [LA Fashion...</td>\n",
       "      <td>[salad , cookies , dtla , cheese , meats ]</td>\n",
       "      <td>[Whole Foods Markets are good and this one is ...</td>\n",
       "      <td>https://www.tripadvisor.com/Restaurant_Review-...</td>\n",
       "    </tr>\n",
       "    <tr>\n",
       "      <th>4</th>\n",
       "      <td>Karl Strauss Brewing Company</td>\n",
       "      <td>4.5 of 5 bubbles</td>\n",
       "      <td>#7</td>\n",
       "      <td>$$ - $$$</td>\n",
       "      <td>[American, Brew Pub, Bar]</td>\n",
       "      <td>600 Wilshire Blvd Suite 100, Los Angeles, CA 9...</td>\n",
       "      <td>[[Hometel Suites, 2.42], [Hotel Aventura, 2.39...</td>\n",
       "      <td>[[SUGARFISH by sushi nozawa, 0.04], [Bottega L...</td>\n",
       "      <td>[[Macy's Plaza, 0.13], [Pershing Square, 0.12]...</td>\n",
       "      <td>[truffle fries , mahi tacos , burger , salmon ...</td>\n",
       "      <td>[Service was totally on point! The staff provi...</td>\n",
       "      <td>https://www.tripadvisor.com/Restaurant_Review-...</td>\n",
       "    </tr>\n",
       "  </tbody>\n",
       "</table>\n",
       "</div>"
      ],
      "text/plain": [
       "                           name             stars  rating     price  \\\n",
       "0        Domingo's Italian Deli  4.5 of 5 bubbles  #2,479             \n",
       "1              Greco's Pizzeria  3.5 of 5 bubbles    #186         $   \n",
       "2                     JOEY DTLA  4.5 of 5 bubbles    #146  $$ - $$$   \n",
       "3            Whole Foods Market  4.5 of 5 bubbles    #132  $$ - $$$   \n",
       "4  Karl Strauss Brewing Company  4.5 of 5 bubbles      #7  $$ - $$$   \n",
       "\n",
       "                                      cusine_type  \\\n",
       "0                                       [Italian]   \n",
       "1                  [Quick Bites, American, Pizza]   \n",
       "2            [American, Bar, Vegetarian Friendly]   \n",
       "3  [American, Vegetarian Friendly, Vegan Options]   \n",
       "4                       [American, Brew Pub, Bar]   \n",
       "\n",
       "                                            location  \\\n",
       "0     17548 Ventura Blvd, Los Angeles, CA 91316-3835   \n",
       "1    6814 Hollywood Blvd, Los Angeles, CA 90028-6102   \n",
       "2       700 W 7th St Ste S430, Los Angeles, CA 90017   \n",
       "3             788 S Grand Ave, Los Angeles, CA 90017   \n",
       "4  600 Wilshire Blvd Suite 100, Los Angeles, CA 9...   \n",
       "\n",
       "                                              hotels  \\\n",
       "0  [[Super 8 by Wyndham North Hollywood, 7.51], [...   \n",
       "1  [[Tilt Hotel Universal / Hollywood, an Ascend ...   \n",
       "2  [[Hometel Suites, 2.32], [Hotel Aventura, 2.29...   \n",
       "3  [[Best Western Plus LA Mid-Town Hotel, 2.37], ...   \n",
       "4  [[Hometel Suites, 2.42], [Hotel Aventura, 2.39...   \n",
       "\n",
       "                                               rests  \\\n",
       "0  [[Sushi Stop, 0.06], [Uncle Bernie's Deli, 0.0...   \n",
       "1  [[Ghirardelli Soda Fountain & Chocolate Shop, ...   \n",
       "2  [[SUGARFISH by sushi nozawa, 0.08], [The Count...   \n",
       "3  [[Bottega Louie, 0.1], [Little Sister, 0.1], [...   \n",
       "4  [[SUGARFISH by sushi nozawa, 0.04], [Bottega L...   \n",
       "\n",
       "                                              attrcs  \\\n",
       "0  [[Panel B, not-list], [The Red Room, not-list]...   \n",
       "1  [[The Hollywood Museum, 0.05], [Dolby Theatre,...   \n",
       "2  [[Macy's Plaza, 0.03], [Oviatt Building, 0.18]...   \n",
       "3  [[FIDM Museum and Galleries, 0.2], [LA Fashion...   \n",
       "4  [[Macy's Plaza, 0.13], [Pershing Square, 0.12]...   \n",
       "\n",
       "                                       special_foods  \\\n",
       "0                                                 []   \n",
       "1                                                 []   \n",
       "2  [lobster ravioli , sushi cones , lava cake , s...   \n",
       "3         [salad , cookies , dtla , cheese , meats ]   \n",
       "4  [truffle fries , mahi tacos , burger , salmon ...   \n",
       "\n",
       "                                          review_txt  \\\n",
       "0  [I walk into this place looking for authentic ...   \n",
       "1  [After a log haul flight, we wanted a quick sn...   \n",
       "2  [Had the New Cobb Salad today and it was amazi...   \n",
       "3  [Whole Foods Markets are good and this one is ...   \n",
       "4  [Service was totally on point! The staff provi...   \n",
       "\n",
       "                                                 url  \n",
       "0  https://www.tripadvisor.com/Restaurant_Review-...  \n",
       "1  https://www.tripadvisor.com/Restaurant_Review-...  \n",
       "2  https://www.tripadvisor.com/Restaurant_Review-...  \n",
       "3  https://www.tripadvisor.com/Restaurant_Review-...  \n",
       "4  https://www.tripadvisor.com/Restaurant_Review-...  "
      ]
     },
     "execution_count": 34,
     "metadata": {},
     "output_type": "execute_result"
    }
   ],
   "source": [
    "df.head()"
   ]
  },
  {
   "cell_type": "code",
   "execution_count": 35,
   "metadata": {},
   "outputs": [
    {
     "data": {
      "text/plain": [
       "'https://www.tripadvisor.com/Restaurant_Review-g32655-d4417555-Reviews-or30-Greco_s_Pizzeria-Los_Angeles_California.html'"
      ]
     },
     "execution_count": 35,
     "metadata": {},
     "output_type": "execute_result"
    }
   ],
   "source": [
    "df.url[1]"
   ]
  },
  {
   "cell_type": "code",
   "execution_count": 26,
   "metadata": {},
   "outputs": [],
   "source": [
    "test = df.review_txt[1]"
   ]
  },
  {
   "cell_type": "code",
   "execution_count": 19,
   "metadata": {},
   "outputs": [],
   "source": [
    "import spacy\n",
    "nlp = spacy.load('en')"
   ]
  },
  {
   "cell_type": "code",
   "execution_count": 24,
   "metadata": {},
   "outputs": [],
   "source": [
    "def test_none(str_line):\n",
    "    doc = nlp(str_line)\n",
    "    noun_adj_pairs = []\n",
    "    for i,token in enumerate(doc):\n",
    "        if token.pos_ not in ('NOUN','PROPN'):\n",
    "            continue\n",
    "        for j in range(i+1,len(doc)):\n",
    "            if doc[j].pos_ == 'ADJ':\n",
    "                noun_adj_pairs.append((token,doc[j]))\n",
    "                break\n",
    "    print(noun_adj_pairs)"
   ]
  },
  {
   "cell_type": "code",
   "execution_count": 25,
   "metadata": {},
   "outputs": [
    {
     "name": "stdout",
     "output_type": "stream",
     "text": [
      "[(Mark, sincere), (John, sincere)]\n"
     ]
    }
   ],
   "source": [
    "test_none('Mark and John are sincere employees at Google.')"
   ]
  },
  {
   "cell_type": "code",
   "execution_count": 27,
   "metadata": {},
   "outputs": [
    {
     "name": "stdout",
     "output_type": "stream",
     "text": [
      "[(food, other), (family, other), (lunch, other), (day, regular), (week, regular), (Los, regular), (Angeles, regular), (Garlic, regular), (Top, regular), (sirloin, regular), (steak, regular), (picanha, regular), (alho, regular), (sirloin, tasty), (steak, tasty), (picanha, tasty)]\n",
      "[(Farmer, quick), (Market, quick), (Grove, quick), (lunch, Brazilian), (food, long), (meat, long), (metal, Brazilian), (rods, Brazilian), (steakhouse, good), (person, good), (pound, good), (plate, good), (register, good), (salad, good), (bar, good), (steak, good), (chicken, good), (sausage, good), (line, whole), (food, whole), (time, More), (lunchtime, More), (Tuesday, More)]\n",
      "[(restaurant, wonderful), (plate, excellent), (meat, excellent), (meat, normal), (meat, red), (bit, red), (system, good)]\n",
      "[(Love, great), (Food, great), (Pao, favorite), (de, favorite), (quiejo, favorite)]\n",
      "[(steak, lovely), (Farmers, best), (Market, best), (loads, best), (places, best)]\n",
      "[]\n",
      "[(kinds, tasteful), (meat, tasteful), (leg, delicious), (lamb, delicious), (jalapeno, delicious), (sauce, delicious), (queu, worth)]\n",
      "[(Farmers, great), (Market, great), (place, many), (spots, high), (Pampas, high), (list, great), (choices, long), (line, long), (service, great)]\n",
      "[(steaks, good), (cheese, good), (bread, good), (salad, good)]\n",
      "[(experience, Brazilian), (BBQ, first), (success, first), (Pampas, first), (Grill, first), (experience, juicy), (meats, juicy), (taste, perfect), (lots, luxurious), (option, luxurious), (side, luxurious), (dishes, luxurious), (taste, Perfect), (food, Perfect), (court, Perfect), (style, Perfect)]\n",
      "[(city, constant), (tour, constant), (guide, constant), (John, constant), (place, constant), (line, good), (range, good), (salads, good), (types, good), (bbq, good), (meats, good), (sirloin, More), (leg, More)]\n",
      "[(chicken, salty), (Top, salty), (Sirloin, salty), (side, nice), (beef, nice), (Mash, nice), (sauce, ok), (standard, hotter), (Spicy, salty), (Chicken, salty), (line, late), (PM, late), (Sunday, late), (afternoon, More), (evening, More)]\n",
      "[(place, greedy), (years, greedy), (prices, garlic), (bread, second), (time, second), (plate, second), (weight, second), (time, More)]\n",
      "[(week, good), (town, good), (line, long), (line, long), (food, GOOD), (REALLY, GOOD)]\n",
      "[(Delicious, long), (Brazilian, long), (BBQ, long), (self, long), (service, long), (weight, long), (foods, long), (queue, long)]\n",
      "[(prices, expensive), (selection, Super), (food, tasty), (time, Great), (stop, worth)]\n",
      "[(restaurant, long), (evening, long), (queu, long), (effort, delicious), (meat, delicious)]\n",
      "[(restaurant, flavorful), (farmers, flavorful), (market, flavorful), (meat, flavorful), (chicken, great), (steak, great), (love, worth), (potato, worth), (salad, worth), (beets, worth), (collard, worth), (greens, worth), (line, worth)]\n",
      "[(food, tasty), (time, expensive), (prices, expensive), (selection, nuts), (quality, nuts), (meat, nuts), (restaurant, nuts), (service, good)]\n",
      "[(surprise, top), (Farmer, top), (Market, top), (L.A., top), (lamb, top), (sirloin, More), (spicy, More), (chicken, More), (sides, More), (favorite, More), (place, More), (Nebraska, More)]\n",
      "[(food, huge), (selection, huge), (quality, fantastic), (meat, fantastic)]\n",
      "[(thought, most), (food, ok), (markets, ok), (boardwalks, ok), (place, long), (farmers, long), (market, long), (line, own), (plates, More), (salads, More)]\n",
      "[(place, sooo), (meat, amazing), (fact, affordable), (potatoes, garlic), (garlic, garlic), (spaghetti, garlic), (bit, garlic), (salad, garlic), (beef, More), (pork, More), (loin, More), (steal, More)]\n",
      "[(time, Brazilian), (barbecue, delicious), (use, many), (time, many), (line, many), (customers, many), (people, favorite), (picanha, favorite)]\n",
      "[(Grove, great), (dessert, great), (Cheesecake, great), (Factory, great), (minute, great), (wait, great), (Farmers, great), (Market, great), (variety, long), (food, long), (stores, long), (line, More)]\n",
      "[(sirloin, good), (garlic, good), (chicken, good), (Meal, long), (size, long), (needs, long), (items, long), (queue, long)]\n",
      "[(Pampas, different), (Grill, different), (Brazilian, different), (Restaurants, different), (plate, different), (sides, different), (vegetables, smashed), (potatoes, different), (cheese, different), (bread, different), (pão, different), (de, different), (queijo, different), (type, More), (meat, More)]\n",
      "[(wife, recent), (farmers, recent), (market, recent), (trip, good), (lunch, good), (Pampas, good), (Grill, good), (food, good), (line, long), (food, More), (while, More)]\n",
      "[(lunch, long), (farmers, long), (market, long), (queue, long), (plate, More), (salads, More), (veg, More), (meat, More)]\n",
      "[(Pampas, quick), (lunch, perfect), (bite, tender), (meat, tender), (fruit, tender), (vegetables, tender), (salad, tender), (meat, tender), (lot, More)]\n",
      "[(sirloin, good), (garlic, good), (chicken, good), (Meal, own), (size, own), (dishes, long), (queue, long)]\n",
      "[(spouse, good), (Pampas, good), (Grill, good), (lunch, good), (Farmers, good), (Market, good), (LA, good), (plate, good), (scale, good), (food, good)]\n",
      "[(picanha, traditional), (staples, Brazilian), (food, expensive), (cashier, similar), (Tastes, similar), (Fogo, other), (restaurant, expensive), (Pampas, expensive)]\n",
      "[(meal, fancy), (visit, fancy), (US, fancy), (vegetarians, fancy), (food, expensive), (weight, expensive)]\n",
      "[(food, tremendous), (lots, inexpensive), (choices, inexpensive), (meats, inexpensive)]\n",
      "[(Flavour, most), (spot, most), (food, black), (beans, cheap), (farofa, cheap), (meat, cheap), (price, cheap)]\n",
      "[(lamb, wonderful), (side, delicious), (items, delicious), (fact, Brazilian), (food, big), (price, small), (plates, small), (portions, More), (lunches, More)]\n",
      "[(food, good), (quality, long), (ingredients, long), (lines, own), (minutes, own), (Tons, own), (options, own), (plate, Good), (place, different), (people, different)]\n",
      "[(Pampas, longest), (Grill, longest), (time, delicious), (reason, delicious), (churrascos, delicious), (buffet, less), (plates, less)]\n",
      "[(husband, rude), (years, rude), (time, rude), (LA, rude), (time, rude), (staff, rude), (guy, More), (plate, More)]\n",
      "[(people, little), (plate, overpriced)]\n",
      "[(place, awesome), (queue, amazing), (food, amazing), (buffet, amazing), (style, amazing), (sides, amazing), (collard, amazing), (greens, amazing), (cheese, amazing), (bread, amazing), (meat, More), (member, More), (staff, More), (lumps, More), (meat, More)]\n",
      "[(Farmers, Brazilian), (Market, Brazilian), (Los, Brazilian), (Angeles, Brazilian), (variety, Brazilian), (cuisine, Brazilian), (veg, More), (food, More), (head, More), (Pampas, More), (Grill, More), (pick, More), (Beef, More), (Pork, More), (Chicken, More), (spread, More), (greens, More), (pastas, More), (breads, More)]\n",
      "[(food, direct), (Staff, direct), (point, amazing), (meat, amazing)]\n",
      "[(day, succulent), (date, succulent), (grandson, succulent), (LA, succulent), (Farmer, succulent), (Market, succulent), (grandson, succulent), (meats, More), (display, More), (spot, More)]\n",
      "[(line, great), (experience, average), (salads, average), (salads, disgusting), (meat, disgusting), (STINKY, disgusting), (chicken, More)]\n",
      "[(town, best), (wedding, best), (Grove, best), (food, right), (Grove, right), (Pampas, right)]\n",
      "[(Farmer, amazing), (Market, amazing), (Grove, amazing), (vacation, amazing), (Los, amazing), (Angeles, amazing), (food, amazing), (try, faster), (restaurants, More)]\n",
      "[(family, long), (place, long), (queue, new), (self, new), (combination, new), (platters, new), (food, new), (u, new), (base, new), (weight, new), (thing, top), (sirloin, More), (pork, More), (loin, More), (suggestions, More)]\n",
      "[(California, sure), (restaurant, Real), (barbecue, Real), (churrasco, black), (beans, fried), (banana, More), (farofa, More), (pão, More), (de, More), (queijo, More), (head, More), (place, More), (Original, More), (Farmers, More)]\n",
      "[(grill, More), (farmers, More), (market, More), (buffet, More), (type, More), (line, More), (portions, More), (meat, More), (server, More), (type, More), (meat, More), (kabob, More)]\n",
      "[(food, real), (deal, fabulous)]\n",
      "[(Los, curious), (angeles, curious), (airport, curious), (Grove, curious), (farmers, curious), (market, curious), (line, curious), (people, curious), (Diners, own), (choice, More), (side, More), (dishes, More), (meat, More), (drinks, More)]\n",
      "[(place, hidden), (gem, traditional), (Farmers, traditional), (Market, traditional), (Grove, traditional), (self, traditional), (service, traditional), (salad, traditional), (bar, traditional), (advice, traditional), (plate, traditional), (salad, traditional), (rice, More), (beans, More), (churrasco, More)]\n",
      "[(option, Cheap), (meal, Cheap), (food, same), (Brazil, same), (spice, soft), (guaraná, soft), (kind, soft), (drink, good), (mandioca, good), (frita, good), (option, More)]\n",
      "[(yummy, affordable), (tummy, affordable), (Picanha, affordable), (Alcatra, affordable), (bomb, affordable), (taste, affordable), (food, affordable)]\n",
      "[(Churrascaria, inexpensive), (Farmers, inexpensive), (Market, inexpensive), (treat, inexpensive), (lunch, Excellent), (meat, excellent), (veggie, excellent), (choices, excellent), (Tri, excellent), (Tip, excellent), (pork, excellent), (loin, excellent)]\n"
     ]
    },
    {
     "name": "stdout",
     "output_type": "stream",
     "text": [
      "[(value, CLEAN), (LA, CLEAN), (RESTAURANT, CLEAN), (Food, CLEAN), (quality, CLEAN), (A+, CLEAN), (Value, CLEAN), (B, CLEAN), (Ambiance, CLEAN), (Location, CLEAN), (People, CLEAN), (Staff, CLEAN), (Service, CLEAN), (Scene, CLEAN), (B, CLEAN), (Decor, CLEAN)]\n",
      "[(A, delicious), (Day, delicious), (LA, delicious), (Tour, delicious), (Farmer, delicious), (Market, delicious), (lunch, delicious), (Pampas, delicious), (Grill, delicious), (food, delicious), (Rice, mini), (beans, mini), (plantains, mini), (meats, mini), (meatballs, mini), (garlic, More), (chicken, More)]\n",
      "[(concept, Brazilian), (Express, Brazilian), (food, good), (dang, good), (farmers, outstanding), (market, outstanding), (CBS, outstanding), (food, outstanding), (weight, affordable), (group, affordable)]\n",
      "[(steakhouse, most), (favourites, most), (cuts, least), (meat, least), (sides, least), (pound, least), (places, More), (Market, More), (Pampas, More)]\n",
      "[(lunch, different), (hour, different), (min, different), (food, different), (place, different), (salad, different), (area, different), (fish, different), (carb, different), (options, different), (rice, different), (beans, different), (plantain, different), (meats, More)]\n",
      "[(wife, several), (establishments, best), (place, best), (meat, right)]\n",
      "[(experience, longest), (LA, longest), (Farmers, longest), (Market, longest), (line, large), (Pampas, large), (Grill, large), (people, large), (dishes, various), (types, large), (BBQ, large), (dish, More), (pick, More), (choices, More), (salads, More)]\n",
      "[(place, awesome), (steak, first), (place, Good), (LA, Good), (quality, long), (meats, long), (Queues, long)]\n",
      "[(popularity, amazing), (place, amazing), (queues, amazing), (times, amazing), (salads, fresh), (meats, spicy), (chicken, More), (thighs, More), (Sirloin, More)]\n",
      "[(Pampas, available), (Grill, available), (Farmers, available), (Market, available), (Brazilian, available), (Barbecue, available), (Place, available), (food, available), (court, available), (food, available), (Restaurants, tasty), (Food, tasty)]\n",
      "[(Pampas, Brazilian), (grill, Brazilian), (yers, Brazilian), (kitchen, delicious), (advantage, tasty), (Pampas, tasty), (meat, best), (grill, best), (Leg, best), (lamb, best)]\n",
      "[(place, tasty), (Grove, tasty), (food, tasty), (heaps, little), (meat, little), (rice, little), (beans, little), (salad, little), (bit, expensive), (opinion, worth)]\n",
      "[(experience, Brazilian), (food-, common), (India, popular), (pork, popular), (beef, popular), (country, least), (place, this-), (value, amazing), (money, amazing)]\n",
      "[(lunch, original), (farmers, More), (market, More), (place, More), (must, More), (LA, More), (resident, More), (tour, More), (guide, More), (Pampas, More), (Grill, More), (%, More), (spot, More), (food, More), (selection, More), (veg, More), (meats, More)]\n",
      "[(buffet, Brazilian), (style, Brazilian), (place, delicious), (Farmers, delicious), (market, delicious), (food, delicious), (choice, roasted), (meat, fabulous), (garlic, fabulous), (beef, fabulous), (garlic, fabulous), (chicken, fabulous), (Plenty, More), (salad, More), (vegetables, More), (plate, More)]\n",
      "[(place, fast), (churrasco, good), (feijoadas, Brazilian), (restaus, quick), (meat, good), (fix, good)]\n",
      "[(Brazilian, many), (🇧, many), (meats, many), (establishment, many), (confines, many), (Original, many), (Farmers, many), (Market, many), (site, best), (choices, best), (line, More)]\n",
      "[(range, tasty), (food, hot), (buffet, hot), (salads, hot), (food, More), (bbq, More), (meat, More), (choice, More), (sirloin, More), (lamb, More), (leg, More), (spicy, More), (chicken, More), (weight, More), (food, More)]\n",
      "[(beef, tender), (assortment, nice), (sides, nice), (salads, nice), (selection, multiple), (husband, multiple), (occasions, bottled), (price, bottled), (weight, bottled), (water, More)]\n",
      "[(lines, little), (bit, worth), (%, much), (bacon, much), (chicken, much), (meat, good), (Pff, good), (salads, More), (rest, More)]\n",
      "[(Lines, long), (reason, fresh), (food, fresh)]\n",
      "[(work, fair), (BBQ, More), (line, More), (place, More), (seat, More), (part, More), (meat, More)]\n",
      "[(meat, best), (taste, small), (garlic, small), (chicken, small), (pork, small), (loin, small), (lamb, small), (beef, small), (pound, small), (eater, much), (lunch, cheap), (lunch, cheap), (eat, More), (salad, More)]\n",
      "[(place, own), (plate, fresh), (selection, fresh), (Buffet, fresh), (food, fresh), (meat, Great), (rice, Great), (beans, Great), (lamb, Great), (chicken, Great), (beef, Great)]\n",
      "[(Farmer, large), (Market, large), (number, good), (restaurant, good), (food, good), (stand, good), (options, good), (times, culinary), (curiosity, More), (Pampas, More), (Grill, More)]\n",
      "[(setting, casual), (choice, delicious), (food, delicious), (price, delicious), (weight, delicious), (Variety, delicious), (cuisine, fresh)]\n",
      "[(taste, best), (places, spicy), (Brazilian, spicy), (LA, spicy), (chicken, delightful)]\n",
      "[(food, delicious), (court, delicious), (Grove, delicious), (place, delicious), (meat, juicy), (front, juicy), (salad, More)]\n",
      "[(selection, Long), (beef, Long), (chicken, Long), (lamb, Long), (buffet, Long), (style, Long), (line, popular), (Farmer, popular), (Market, popular)]\n",
      "[(queue, cold), (place, cold), (Farmers, cold), (Market, cold), (Salad, cold), (choices, cold), (lines, cold), (eggs, cold), (lettuce, cold), (beet, cold), (root, cold), (broccoli, More), (couple, More), (bread, More), (items, More), (BBQ, More), (meats, More)]\n",
      "[(recommendation, good), (tour, good), (guide, good), (LA, good), (area, good), (food, good), (garlic, much), (chicken, much), (pound, much), (food, filling)]\n",
      "[(friends, delicious), (Grove, delicious), (Pampas, delicious), (Sunday, delicious), (brunch, delicious), (disappointment, delicious), (sides, delicious), (cheese, good), (balls, good), (NYC, good), (Plataforma, good), (meats, tasty)]\n",
      "[(queue, good), (farmers, good), (market, good), (part, good), (day, good), (trip, good), (meat, good), (portion, good), (size, good)]\n",
      "[(salads, Cheese), (bread, good), (potatoes, good), (chicken, decent), (stroganoff, decent), (lamb, rare), (beef, rare), (pork, rare), (medium, rare), (loin, least), (today, More), (line, More)]\n",
      "[(things, good), (veggies, good), (salads, good), (chicken, good), (beef, lowest)]\n",
      "[(grove, excellent), (farmers, excellent), (Pampas, excellent), (meat, excellent), (party, top), (sirloin, tasty), (lamb, tasty), (leg, tasty), (sausage, tasty), (Chicken, tasty), (meat, tasty), (garlic, tasty), (meat, tasty), (perfection, More)]\n",
      "[(farmers, delicious), (market, delicious), (life, delicious), (cafeteria, delicious), (line, delicious), (pound, delicious), (items, delicious), (times, More)]\n",
      "[(wonder, best), (line, best), (time, best), (food, good), (soooooooooooo, authentic)]\n",
      "[(place, same), (mistake, same), (time, same), (week, casual), (middle, best), (Farmer, best), (Market, best)]\n",
      "[(lunch, many), (friend, many), (places, surprised), (cafeteria, surprised), (style, surprised), (quality, lower), (food, lower), (quality, wrong), (food, wrong), (location, wrong)]\n",
      "[(place, worth), (Farmers, worth), (Market, worth), (day, worth), (tour, worth), (LA, worth), (food, worth), (queue, tender), (lamb, tender), (sirloin, tender)]\n",
      "[(Pantages, fancy), (Theater, fancy), (Farmers, fancy), (Market, fancy), (Grove, fancy), (food, outstanding), (garlic, great), (chicken, great), (favorites, great), (meats, great)]\n",
      "[(experience, Brazilian), (food, skeptical), (seconds, skeptical), (fact, good), (cafeteria, good), (style, good), (reviews, good), (meats, delicious)]\n",
      "[(eateries, ready), (Farmers, ready), (Market, ready), (appetite, ready), (meats, Brazilian), (BBQ, Great), (jewel, Great)]\n",
      "[(meat, Little), (place, Little), (bit, worth), (grill, amazing), (sausages, amazing)]\n",
      "[(line, nice), (place, nice), (selection, few), (meats, few), (pound, few), (slices, cheaper), (picanha, cheaper), (sausage, cheaper), (salad, cheaper), (bar, cheaper), (items, cheaper), (lot, cheaper)]\n",
      "[(Lot, cooked), (salad, cooked), (meat, worth), (chicken, worth)]\n",
      "[(meats, only), (thing, happy), (line, good)]\n",
      "[(queue, spicy)]\n",
      "[(food, spicy), (pound, spicy), (beef, spicy), (pork, spicy), (lamb, spicy), (chicken, spicy), (rice, spicy), (broccoli, spicy), (salads, spicy), (pound, spicy), (food, spicy), (meat, spicy), (spit, More)]\n",
      "[(Farmer, fun), (Market, fun), (place, best), (time, best), (year, best), (lot, best), (options, best), (Pampas, best), (Grill, best), (lines, More), (line, More)]\n",
      "[(selection, fantastic), (food, fantastic), (price, reasonable), (volume, bigger), (customers, bigger), (Customer, similar), (food, similar)]\n",
      "[(trip, great), (LA, great), (grill, great), (Value, great), (money, great)]\n",
      "[(reviews, garlic), (buffet, garlic), (plate, garlic), (cost, garlic), (plates, garlic), (soda, garlic), (kinds, garlic), (salad, garlic), (garlic, garlic), (rice, garlic), (cheese, garlic), (ball, garlic), (bread, More)]\n",
      "[(place, skewered), (trip, skewered), (lunch, skewered), (market-, skewered), (meats, lovely), (salad, lovely), (self, lovely), (service-, lovely), (weight-, lovely), (seat, lovely), (stand, lovely), (beef, More), (chicken, More), (lamb, More)]\n",
      "[(line, fab), (Pampas, fab), (Grill, fab), (food, fab), (queue, delicious), (grill, delicious), (piece, garlic), (beef, black), (beans, More), (plantains, More)]\n",
      "[(buffet, Brazilian), (style, Brazilian), (grill, numerous), (front, numerous), (line, numerous), (sides, black), (salads, black), (beets, black), (beans, real), (eggs, real), (rice, real), (fruit, real), (star, More), (show, More), (meat, More), (skewers, More), (end, More), (line, More)]\n",
      "[(Farmers, typical), (Market, typical), (must, typical), (area, typical), (fruit, wide), (veggie, wide), (market, wide), (food, wide), (variety, longest), (food, longest), (yummy, longest), (Hands, longest), (Pampas, longest), (line, More)]\n",
      "[(food, superb), (lot, garlic), (variety, garlic), (beef, good), (point, free), (place, free)]\n",
      "[(Farmers, enormous), (Market, enormous), (Sunday, enormous), (lines, enormous), (Pampas, enormous), (Grill, enormous), (day, few), (line, few), (staff, few), (time, few), (things, terrific), (beef, More), (ouches, More)]\n",
      "[(food, excellent), (value, worth), (line, Good)]\n",
      "[(reason, most), (place, most), (line, most), (time, good), (cafeteria, efficient), (service, efficient), (system, efficient), (food, Fresh), (salad, side), (selections, side), (dozens, side), (dishes, More), (sun, More), (tomato, More), (pasta, More), (salad, More)]\n"
     ]
    },
    {
     "name": "stdout",
     "output_type": "stream",
     "text": [
      "[(Farmer, BBQ'd), (Market, BBQ'd), (car, BBQ'd), (park, BBQ'd), (food, good), (soooo, good), (market, wonderful), (source, wonderful), (fragrance, More), (Pampas, More), (grill, More), (food, More)]\n",
      "[(line, Nice), (Labor, Nice), (Day, Nice), (weekend, Nice), (selection, nice), (salads, nice), (course, nice), (meat, nice), (food, nice), (weight, nice), (plate, nice), (plate, More), (meats, More), (salads, More), (dollars, More)]\n",
      "[(Farmer, long), (Market, long), (partner, long), (friend, long), (lunch, long), (place, long), (mind, long), (line, long), (side, long), (lines, More), (food, More)]\n",
      "[(taste, pink), (plantains, pink), (spicy, pink), (chicken, pink), (suace, good), (top, good), (spaghetti, good), (spicy, good), (chicken, good), (chicken, tough), (sauce, tough), (price, expensive), (comparison, More), (food, More), (u, More)]\n",
      "[(restaurant, happy), (Vacation, happy), (California, happy), (place, happy), (area, happy), (arrival, happy), (restaurant, happy), (car, More), (park, More), (way, More)]\n",
      "[(food, great), (prices, careful), (plate, tasty), (weight, tasty), (sides, tasty), (plate, little), (room, More)]\n",
      "[(spot, famous), (Farmer, excellent), (Market, excellent), (spot, traditional), (meat, traditional), (lover, traditional), (meat, awesome), (choices, awesome), (sirloin, awesome), (caps, awesome), (pork, awesome), (chicken, awesome), (sausage, awesome), (sirloin, awesome), (cap, awesome), (sausage, awesome), (spicy, awesome), (chicken, awesome), (chicken, awesome), (salad, More), (bar, More)]\n",
      "[(Pampas, Brazilian), (Grill, Brazilian), (buffet, great), (Farmers, great), (market, great), (lines, best), (salad, best), (plate, best), (bit, best), (salad, best), (vegetables, best), (price, More)]\n",
      "[(discovery, long), (line, many), (indicator, many), (options, favorite), (steak, favorite), (pork, favorite), (options, good), (Seasonings, good), (tenderness, good), (meat, good), (Beet, good), (salad, good), (coconut, white), (water, white), (chunky, More)]\n",
      "[(style, huge), (Farmer, huge), (Market, huge), (selection, delicious), (sides, delicious), (salads, delicious), (meat, delicious), (Meat, delicious), (front, delicious), (weight, More), (plate, More)]\n",
      "[(Farmers, amazing), (Market, amazing), (Grove, amazing), (restaurant, amazing), (outlet, past), (favour, other), (reviews, much), (food, much)]\n",
      "[(food, good), (price, good)]\n",
      "[(restaurants, same), (county, same), (Brazillian, same), (Churruscas, same), (quality, same), (meats, same), (Pampas, same), (Grill, same), (quality, expensive), (establishments, several), (verieties, More)]\n",
      "[(blocks, Brazilian), (L.A., simple), (setting, authentic), (Farmer, authentic), (Market, authentic), (food, authentic)]\n",
      "[(crowd, right), (line, right), (Pampas, right), (lunch, right), (decision, Brazilian), (Melt, Brazilian), (mouth, Brazilian), (BBQ, More), (linguica, More), (spicy, More), (chicken, More), (garlic, More), (chicken, More), (sirloin, More), (Delicious, More), (buffet, More), (options, More), (salads, More), (fruits, More), (sides, More), (collard, More), (greens, More)]\n",
      "[(time, venerable), (LA, More), (Farmers, More), (Market, More), (Tar, More), (Pits, More), (Patsy, More), (Pizza, More), (Pampas, More), (Grill, More), (LA, More)]\n",
      "[(Los, long), (Angeles, long), (Farmers, long), (Market, long), (line, first), (customers, first), (food, first), (Pampas, first), (Grill, first), (clue, delicious), (food, delicious), (Brazil, More)]\n"
     ]
    }
   ],
   "source": [
    "for line in test:\n",
    "    test_none(line)"
   ]
  },
  {
   "cell_type": "code",
   "execution_count": 29,
   "metadata": {},
   "outputs": [
    {
     "data": {
      "text/plain": [
       "'Inside the Farmer’s Market at the Grove we grabbed a quick lunch here. It’s Brazilian food – meat cooked on long metal rods, just like if you want to a Brazilian steakhouse – except your not paying $49 per person. You pay by the pound...– meaning they weigh your plate at the register. They also have a salad bar. We had steak, chicken and sausage – all were very good. There was a line to get food there the whole time we were there, which was lunchtime on a Tuesday.More'"
      ]
     },
     "execution_count": 29,
     "metadata": {},
     "output_type": "execute_result"
    }
   ],
   "source": [
    "test[1]"
   ]
  },
  {
   "cell_type": "code",
   "execution_count": null,
   "metadata": {},
   "outputs": [],
   "source": []
  }
 ],
 "metadata": {
  "kernelspec": {
   "display_name": "Python [conda env:root]",
   "language": "python",
   "name": "conda-root-py"
  },
  "language_info": {
   "codemirror_mode": {
    "name": "ipython",
    "version": 3
   },
   "file_extension": ".py",
   "mimetype": "text/x-python",
   "name": "python",
   "nbconvert_exporter": "python",
   "pygments_lexer": "ipython3",
   "version": "3.6.10"
  }
 },
 "nbformat": 4,
 "nbformat_minor": 4
}
